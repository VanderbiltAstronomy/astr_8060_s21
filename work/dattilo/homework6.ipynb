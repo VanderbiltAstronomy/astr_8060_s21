{
 "cells": [
  {
   "cell_type": "markdown",
   "metadata": {},
   "source": [
    "# Homework 6\n",
    "## Hannah Dattilo"
   ]
  },
  {
   "cell_type": "code",
   "execution_count": 1,
   "metadata": {},
   "outputs": [
    {
     "name": "stdout",
     "output_type": "stream",
     "text": [
      "Ginga not installed, use other viewer, or no viewer\n"
     ]
    }
   ],
   "source": [
    "import matplotlib.pyplot as plt\n",
    "import numpy as np\n",
    "import matplotlib.image as mpimg\n",
    "import astropy.io.fits as fits\n",
    "import ccdproc as ccd\n",
    "from astropy.nddata import CCDData\n",
    "from astropy.modeling import models, fitting\n",
    "from astropy.stats import mad_std\n",
    "from astropy.stats import sigma_clip\n",
    "import sys \n",
    "sys.path.insert(0,'/Users/hannahdattilo/Desktop/ASTR8060/ccd-reduction-and-photometry-guide/notebooks/')\n",
    "from convenience_functions import show_image\n",
    "import imexam\n",
    "import os\n",
    "from photutils.aperture import CircularAperture\n",
    "from photutils.aperture import CircularAnnulus\n",
    "from photutils.aperture import aperture_photometry\n",
    "from astropy.stats import sigma_clipped_stats\n",
    "from photutils.detection import DAOStarFinder\n",
    "from astropy.coordinates import SkyCoord\n",
    "import sfdmap\n",
    "import extinction"
   ]
  },
  {
   "cell_type": "markdown",
   "metadata": {},
   "source": [
    "## 1: Using imexam, measure the PSF FWHM of one of the stars in the PG1633+099 Landolt standard field. Are there significant trends or variations in the FWHM for the same star observed at different times throughout the night? How about for different stars observed at similar times but for different airmasses? How about across the chip in a single exposure? Make plots to support your findings regarding the variation of the PSF with time/airmass/chip location.  "
   ]
  },
  {
   "cell_type": "code",
   "execution_count": 2,
   "metadata": {},
   "outputs": [],
   "source": [
    "# paths\n",
    "data_dir = '/Users/hannahdattilo/Desktop/ASTR8060/Imaging/'\n",
    "reduced_dir = '/Users/hannahdattilo/Desktop/reduced_data/'"
   ]
  },
  {
   "cell_type": "code",
   "execution_count": 3,
   "metadata": {},
   "outputs": [],
   "source": [
    "# read in reduced pg1633+099 v filter data\n",
    "pg_v1 = [fits.open(reduced_dir + 'a0' + str(i) + 'otzb.fits')[0].data for i in np.arange(64,81,1)]\n",
    "pg_v2 = [fits.open(reduced_dir + 'a0' + str(i) + 'otzb.fits')[0].data for i in np.arange(85,87,1)]\n",
    "pg_v3 = [fits.open(reduced_dir + 'a' + str(i) + 'otzb.fits')[0].data for i in np.arange(134,136,1)]\n",
    "pg_v4 = [fits.open(reduced_dir + 'a' + str(i) + 'otzb.fits')[0].data for i in np.arange(206,208,1)]\n",
    "pg_v5 = [fits.open(reduced_dir + 'a' + str(i) + 'otzb.fits')[0].data for i in np.arange(241,243,1)]"
   ]
  },
  {
   "cell_type": "code",
   "execution_count": 4,
   "metadata": {},
   "outputs": [],
   "source": [
    "#os.environ['XPA_METHOD'] = \"inet\"\n",
    "# connect the imexam viewer to that window\n",
    "#viewer=imexam.connect(path='/Volumes/Macintosh HD/Applications/SAOImageDS9.app/Contents/MacOS/ds9')"
   ]
  },
  {
   "cell_type": "code",
   "execution_count": 5,
   "metadata": {},
   "outputs": [],
   "source": [
    "# load an image and zscale\n",
    "i = 85\n",
    "#viewer.load_fits(reduced_dir + 'a0' + str(i) + 'otzb.fits')\n",
    "#viewer.scale()"
   ]
  },
  {
   "cell_type": "code",
   "execution_count": 6,
   "metadata": {},
   "outputs": [],
   "source": [
    "# run imexam\n",
    "# holding the mouse over a star and pressing \n",
    "# 'r' will return the results of a radial plot\n",
    "#viewer.imexam()"
   ]
  },
  {
   "cell_type": "code",
   "execution_count": 7,
   "metadata": {},
   "outputs": [],
   "source": [
    "# found using imexam \n",
    "fwhm_v = np.array([4.286,3.606,5.090,6.916,4.375,3.767,4.681,3.786,3.966,4.016,5.454,4.482,4.589,4.589,5.958,4.939,3.966,4.243,4.457,5.333,5.053,3.884,3.583,5.094,4.772])"
   ]
  },
  {
   "cell_type": "code",
   "execution_count": 8,
   "metadata": {},
   "outputs": [],
   "source": [
    "# obtain the times these images were taken at \n",
    "pg_header1 = [fits.open(data_dir + 'a0' + str(i) + '.fits')[0].header for i in np.arange(64,81,1)]\n",
    "pg_header2 = [fits.open(data_dir + 'a0' + str(i) + '.fits')[0].header for i in np.arange(85,87,1)]\n",
    "pg_header3 = [fits.open(data_dir + 'a' + str(i) + '.fits')[0].header for i in np.arange(134,136,1)]\n",
    "pg_header4 = [fits.open(data_dir + 'a' + str(i) + '.fits')[0].header for i in np.arange(206,208,1)]\n",
    "pg_header5 = [fits.open(data_dir + 'a' + str(i) + '.fits')[0].header for i in np.arange(241,243,1)]\n",
    "\n",
    "pg_header = pg_header1+pg_header2+pg_header3+pg_header4+pg_header5\n",
    "\n",
    "pg_date = [i[\"DATE-OBS\"] for i in pg_header]\n",
    "pg_time = [i[11:23] for i in pg_date]\n",
    "\n",
    "# convert h:m:s string to seconds, courtesy of a function found on stack overflow (god bless the internet)\n",
    "def get_sec(time_str):\n",
    "    \"\"\"Get Seconds from time.\"\"\"\n",
    "    h, m, s = time_str.split(':')\n",
    "    return int(h) * 3600 + int(m) * 60 + int(float(s))\n",
    "\n",
    "pg_time_sec = []\n",
    "for i in pg_time:\n",
    "    time = get_sec(i)\n",
    "    pg_time_sec.append(time)\n",
    "#print(pg_time_sec)"
   ]
  },
  {
   "cell_type": "code",
   "execution_count": 9,
   "metadata": {},
   "outputs": [
    {
     "data": {
      "image/png": "[encoded data removed]",
      "text/plain": [
       "<Figure size 432x288 with 1 Axes>"
      ]
     },
     "metadata": {
      "needs_background": "light"
     },
     "output_type": "display_data"
    }
   ],
   "source": [
    "# plot FWHM of PG1633+099 over time to see what kind of time variation there is\n",
    "plt.scatter(pg_time_sec,fwhm_v,color='hotpink')\n",
    "plt.xlabel('Time [s]')\n",
    "plt.ylabel('FWHM')\n",
    "plt.title('FWHM of PG1633+099 in V filter vs time [s]')\n",
    "plt.show()"
   ]
  },
  {
   "cell_type": "markdown",
   "metadata": {},
   "source": [
    "There doesn't seem to be any significant patterns but there is certainly some variation in the FWHM over time. "
   ]
  },
  {
   "cell_type": "markdown",
   "metadata": {},
   "source": [
    "Let's look at the other filters to see if they show any variation: "
   ]
  },
  {
   "cell_type": "code",
   "execution_count": 10,
   "metadata": {},
   "outputs": [],
   "source": [
    "# u \n",
    "pg_u1 = [fits.open(reduced_dir + 'a0' + str(i) + 'otzb.fits')[0].data for i in np.arange(81,83,1)]\n",
    "pg_u2 = [fits.open(reduced_dir + 'a' + str(i) + 'otzb.fits')[0].data for i in np.arange(130,132,1)]\n",
    "pg_u3 = [fits.open(reduced_dir + 'a' + str(i) + 'otzb.fits')[0].data for i in np.arange(202,204,1)]"
   ]
  },
  {
   "cell_type": "code",
   "execution_count": 11,
   "metadata": {},
   "outputs": [],
   "source": [
    "# load an image and zscale\n",
    "#i = 203\n",
    "#viewer.load_fits(reduced_dir + 'a' + str(i) + 'otzb.fits')\n",
    "#viewer.scale()"
   ]
  },
  {
   "cell_type": "code",
   "execution_count": 12,
   "metadata": {},
   "outputs": [],
   "source": [
    "# run imexam\n",
    "# holding the mouse over a star and pressing \n",
    "# 'r' will return the results of a radial plot\n",
    "#viewer.imexam()"
   ]
  },
  {
   "cell_type": "code",
   "execution_count": 13,
   "metadata": {},
   "outputs": [],
   "source": [
    "# found using imexam \n",
    "fwhm_u = np.array([4.723,4.538,5.300,5.559,4.264,4.178])"
   ]
  },
  {
   "cell_type": "code",
   "execution_count": 14,
   "metadata": {},
   "outputs": [],
   "source": [
    "# obtain the times these were taken at \n",
    "pg_u_header1 = [fits.open(data_dir + 'a0' + str(i) + '.fits')[0].header for i in np.arange(81,83,1)]\n",
    "pg_u_header2 = [fits.open(data_dir + 'a' + str(i) + '.fits')[0].header for i in np.arange(130,132,1)]\n",
    "pg_u_header3 = [fits.open(data_dir + 'a' + str(i) + '.fits')[0].header for i in np.arange(202,204,1)]\n",
    "\n",
    "pg_u_header = pg_u_header1+pg_u_header2+pg_u_header3\n",
    "\n",
    "pg_u_date = [i[\"DATE-OBS\"] for i in pg_u_header]\n",
    "pg_u_time = [i[11:23] for i in pg_u_date]\n",
    "\n",
    "pg_u_time_sec = []\n",
    "for i in pg_u_time:\n",
    "    time = get_sec(i)\n",
    "    pg_u_time_sec.append(time)\n",
    "#print(pg_u_time_sec)"
   ]
  },
  {
   "cell_type": "code",
   "execution_count": 15,
   "metadata": {},
   "outputs": [],
   "source": [
    "# b \n",
    "pg_b1 = [fits.open(reduced_dir + 'a0' + str(i) + 'otzb.fits')[0].data for i in np.arange(83,85,1)]\n",
    "pg_b2 = [fits.open(reduced_dir + 'a' + str(i) + 'otzb.fits')[0].data for i in np.arange(132,134,1)]\n",
    "pg_b3 = [fits.open(reduced_dir + 'a' + str(i) + 'otzb.fits')[0].data for i in np.arange(204,206,1)]\n",
    "pg_b4 = [fits.open(reduced_dir + 'a' + str(i) + 'otzb.fits')[0].data for i in np.arange(239,241,1)]"
   ]
  },
  {
   "cell_type": "code",
   "execution_count": 16,
   "metadata": {},
   "outputs": [],
   "source": [
    "# load an image and zscale\n",
    "#i = 240\n",
    "#viewer.load_fits(reduced_dir + 'a' + str(i) + 'otzb.fits')\n",
    "#viewer.scale()"
   ]
  },
  {
   "cell_type": "code",
   "execution_count": 17,
   "metadata": {},
   "outputs": [],
   "source": [
    "# run imexam\n",
    "# holding the mouse over a star and pressing \n",
    "# 'r' will return the results of a radial plot\n",
    "#viewer.imexam()"
   ]
  },
  {
   "cell_type": "code",
   "execution_count": 18,
   "metadata": {},
   "outputs": [],
   "source": [
    "# found using imexam \n",
    "fwhm_b = np.array([4.226,4.063,6.498,6.241,4.459,4.629,5.022,5.123])"
   ]
  },
  {
   "cell_type": "code",
   "execution_count": 19,
   "metadata": {},
   "outputs": [],
   "source": [
    "# obtain the times these were taken at \n",
    "pg_b_header1 = [fits.open(data_dir + 'a0' + str(i) + '.fits')[0].header for i in np.arange(83,85,1)]\n",
    "pg_b_header2 = [fits.open(data_dir + 'a' + str(i) + '.fits')[0].header for i in np.arange(132,134,1)]\n",
    "pg_b_header3 = [fits.open(data_dir + 'a' + str(i) + '.fits')[0].header for i in np.arange(204,206,1)]\n",
    "pg_b_header4 = [fits.open(data_dir + 'a' + str(i) + '.fits')[0].header for i in np.arange(239,241,1)]\n",
    "\n",
    "pg_b_header = pg_b_header1+pg_b_header2+pg_b_header3+pg_b_header4\n",
    "\n",
    "pg_b_date = [i[\"DATE-OBS\"] for i in pg_b_header]\n",
    "pg_b_time = [i[11:23] for i in pg_b_date]\n",
    "\n",
    "pg_b_time_sec = []\n",
    "for i in pg_b_time:\n",
    "    time = get_sec(i)\n",
    "    pg_b_time_sec.append(time)\n",
    "#print(pg_b_time_sec)"
   ]
  },
  {
   "cell_type": "code",
   "execution_count": 20,
   "metadata": {},
   "outputs": [],
   "source": [
    "# r\n",
    "pg_r1 = [fits.open(reduced_dir + 'a0' + str(i) + 'otzb.fits')[0].data for i in np.arange(87,89,1)]\n",
    "pg_r2 = [fits.open(reduced_dir + 'a' + str(i) + 'otzb.fits')[0].data for i in np.arange(136,138,1)]\n",
    "pg_r3 = [fits.open(reduced_dir + 'a' + str(i) + 'otzb.fits')[0].data for i in np.arange(208,210,1)]\n",
    "pg_r4 = [fits.open(reduced_dir + 'a' + str(i) + 'otzb.fits')[0].data for i in np.arange(243,245,1)]"
   ]
  },
  {
   "cell_type": "code",
   "execution_count": 21,
   "metadata": {},
   "outputs": [],
   "source": [
    "# load an image and zscale\n",
    "#i = 244\n",
    "#viewer.load_fits(reduced_dir + 'a' + str(i) + 'otzb.fits')\n",
    "#viewer.scale()"
   ]
  },
  {
   "cell_type": "code",
   "execution_count": 22,
   "metadata": {},
   "outputs": [],
   "source": [
    "# run imexam\n",
    "# holding the mouse over a star and pressing \n",
    "# 'r' will return the results of a radial plot\n",
    "#viewer.imexam()"
   ]
  },
  {
   "cell_type": "code",
   "execution_count": 23,
   "metadata": {},
   "outputs": [],
   "source": [
    "# found using imexam \n",
    "fwhm_r = np.array([4.131,4.101,3.672,3.878,3.258,3.307,4.413,4.310])"
   ]
  },
  {
   "cell_type": "code",
   "execution_count": 24,
   "metadata": {},
   "outputs": [],
   "source": [
    "# obtain the times these were taken at \n",
    "pg_r_header1 = [fits.open(data_dir + 'a0' + str(i) + '.fits')[0].header for i in np.arange(87,89,1)]\n",
    "pg_r_header2 = [fits.open(data_dir + 'a' + str(i) + '.fits')[0].header for i in np.arange(136,138,1)]\n",
    "pg_r_header3 = [fits.open(data_dir + 'a' + str(i) + '.fits')[0].header for i in np.arange(208,210,1)]\n",
    "pg_r_header4 = [fits.open(data_dir + 'a' + str(i) + '.fits')[0].header for i in np.arange(243,245,1)]\n",
    "\n",
    "pg_r_header = pg_r_header1+pg_r_header2+pg_r_header3+pg_r_header4\n",
    "\n",
    "pg_r_date = [i[\"DATE-OBS\"] for i in pg_r_header]\n",
    "pg_r_time = [i[11:23] for i in pg_r_date]\n",
    "\n",
    "pg_r_time_sec = []\n",
    "for i in pg_r_time:\n",
    "    time = get_sec(i)\n",
    "    pg_r_time_sec.append(time)\n",
    "#print(pg_r_time_sec)"
   ]
  },
  {
   "cell_type": "code",
   "execution_count": 25,
   "metadata": {},
   "outputs": [],
   "source": [
    "# i \n",
    "pg_i1 = [fits.open(reduced_dir + 'a0' + str(i) + 'otzb.fits')[0].data for i in np.arange(89,91,1)]\n",
    "pg_i2 = [fits.open(reduced_dir + 'a' + str(i) + 'otzb.fits')[0].data for i in np.arange(138,140,1)]\n",
    "pg_i3 = [fits.open(reduced_dir + 'a' + str(i) + 'otzb.fits')[0].data for i in np.arange(210,212,1)]\n",
    "pg_i4 = [fits.open(reduced_dir + 'a' + str(i) + 'otzb.fits')[0].data for i in np.arange(245,247,1)]"
   ]
  },
  {
   "cell_type": "code",
   "execution_count": 26,
   "metadata": {},
   "outputs": [],
   "source": [
    "# load an image and zscale\n",
    "#i = 246\n",
    "#viewer.load_fits(reduced_dir + 'a' + str(i) + 'otzb.fits')\n",
    "#viewer.scale()"
   ]
  },
  {
   "cell_type": "code",
   "execution_count": 27,
   "metadata": {},
   "outputs": [],
   "source": [
    "# run imexam\n",
    "# holding the mouse over a star and pressing \n",
    "# 'r' will return the results of a radial plot\n",
    "#viewer.imexam()"
   ]
  },
  {
   "cell_type": "code",
   "execution_count": 28,
   "metadata": {},
   "outputs": [],
   "source": [
    "# found using imexam \n",
    "fwhm_i = np.array([3.901,4.480,3.728,3.040,2.818,2.998,3.905,3.676])"
   ]
  },
  {
   "cell_type": "code",
   "execution_count": 29,
   "metadata": {},
   "outputs": [],
   "source": [
    "# obtain the times these were taken at \n",
    "pg_i_header1 = [fits.open(data_dir + 'a0' + str(i) + '.fits')[0].header for i in np.arange(89,91,1)]\n",
    "pg_i_header2 = [fits.open(data_dir + 'a' + str(i) + '.fits')[0].header for i in np.arange(138,140,1)]\n",
    "pg_i_header3 = [fits.open(data_dir + 'a' + str(i) + '.fits')[0].header for i in np.arange(210,212,1)]\n",
    "pg_i_header4 = [fits.open(data_dir + 'a' + str(i) + '.fits')[0].header for i in np.arange(245,247,1)]\n",
    "\n",
    "pg_i_header = pg_i_header1+pg_i_header2+pg_i_header3+pg_i_header4\n",
    "\n",
    "pg_i_date = [i[\"DATE-OBS\"] for i in pg_i_header]\n",
    "pg_i_time = [i[11:23] for i in pg_i_date]\n",
    "\n",
    "pg_i_time_sec = []\n",
    "for i in pg_i_time:\n",
    "    time = get_sec(i)\n",
    "    pg_i_time_sec.append(time)\n",
    "#print(pg_i_time_sec)"
   ]
  },
  {
   "cell_type": "code",
   "execution_count": 30,
   "metadata": {},
   "outputs": [
    {
     "data": {
      "image/png": "[encoded data removed]",
      "text/plain": [
       "<Figure size 1440x1080 with 6 Axes>"
      ]
     },
     "metadata": {
      "needs_background": "light"
     },
     "output_type": "display_data"
    }
   ],
   "source": [
    "fig,ax = plt.subplots(2,3,figsize=(20,15))\n",
    "fig.suptitle('PG1633+099 FWHM in all filters over time',size=25)\n",
    "ax[0,0].scatter(pg_time_sec,fwhm_v,color='hotpink')\n",
    "ax[0,0].set_title('V Filter')\n",
    "ax[0,1].scatter(pg_u_time_sec,fwhm_u,color='hotpink')\n",
    "ax[0,1].set_title('U Filter')\n",
    "ax[0,2].scatter(pg_b_time_sec,fwhm_b,color='hotpink')\n",
    "ax[0,2].set_title('B Filter')\n",
    "ax[1,0].scatter(pg_r_time_sec,fwhm_r,color='hotpink')\n",
    "ax[1,0].set_title('R Filter')\n",
    "ax[1,1].scatter(pg_i_time_sec,fwhm_i,color='hotpink')\n",
    "ax[1,1].set_title('I Filter')\n",
    "ax[1,2].axis('off')\n",
    "\n",
    "for a in ax.flat:\n",
    "    a.set(xlabel='Time [s]', ylabel='FWHM')\n",
    "    a.set(ylim=(2,7))"
   ]
  },
  {
   "cell_type": "markdown",
   "metadata": {},
   "source": [
    "Again, no significant patterns over time for each filter or even across filters, but there is variation. "
   ]
  },
  {
   "cell_type": "markdown",
   "metadata": {},
   "source": [
    "### Let's look at all the PG1633+099 standard stars and compare them at different airmasses in the V filter:"
   ]
  },
  {
   "cell_type": "code",
   "execution_count": 31,
   "metadata": {},
   "outputs": [],
   "source": [
    "# v\n",
    "# load an image and zscale\n",
    "#i = 242\n",
    "#viewer.load_fits(reduced_dir + 'a' + str(i) + 'otzb.fits')\n",
    "#viewer.scale()"
   ]
  },
  {
   "cell_type": "code",
   "execution_count": 32,
   "metadata": {},
   "outputs": [],
   "source": [
    "# run imexam\n",
    "# holding the mouse over a star and pressing \n",
    "# 'r' will return the results of a radial plot\n",
    "#viewer.imexam()"
   ]
  },
  {
   "cell_type": "code",
   "execution_count": 33,
   "metadata": {},
   "outputs": [
    {
     "name": "stdout",
     "output_type": "stream",
     "text": [
      "[14055, 14086, 14121, 21398, 21433, 26619, 26654, 31447, 31482]\n"
     ]
    }
   ],
   "source": [
    "# lets look at 2-3 frames from similar times and all the different airmasses: \n",
    "x1 = np.array([1.19,1.19,1.19,1.19,1.19,1.19,1.19,1.19,1.19])\n",
    "#landolt standards: #a.   #b.   #c.   #d.  \n",
    "x1_f1 = np.array([5.139,5.431,5.646,5.452])  # a074\n",
    "x1_f2 = np.array([4.502,4.710,4.703,4.850])  # a075\n",
    "x1_f3 = np.array([4.564,4.420,4.873,4.767])  # a076\n",
    "\n",
    "x2 = np.array([1.24,1.24,1.24,1.24,1.24,1.24,1.24,1.24,1.24])\n",
    "x2_f1 = np.array([4.994,5.438,4.443,4.569])  # a134\n",
    "x2_f2 = np.array([4.799,5.454,4.485,4.485])  # a135\n",
    "\n",
    "x3 = np.array([1.52,1.52,1.52,1.52,1.52,1.52,1.52,1.52,1.52])\n",
    "x3_f1 = np.array([3.513,3.790,3.962,4.101])  # a206\n",
    "x3_f2 = np.array([3.683,3.918,3.676,3.815])  # a207\n",
    "\n",
    "x4 = np.array([2.21,2.21,2.21,2.21,2.21,2.21,2.21,2.21,2.21])\n",
    "x4_f1 = np.array([4.993,5.076,5.075,5.103])  # a241\n",
    "x4_f2 = np.array([4.609,4.574,4.600,4.653])  # a242\n",
    "\n",
    "airmass = np.array([1.19,1.19,1.19,1.24,1.24,1.52,1.52,2.21,2.21]) \n",
    "# lets get the times these frames were taken at:\n",
    "# obtain the times these were taken at \n",
    "x1_headers = [fits.open(data_dir + 'a0' + str(i) + '.fits')[0].header for i in np.arange(74,77,1)]\n",
    "x2_headers = [fits.open(data_dir + 'a' + str(i) + '.fits')[0].header for i in np.arange(134,136,1)]\n",
    "x3_headers = [fits.open(data_dir + 'a' + str(i) + '.fits')[0].header for i in np.arange(206,208,1)]\n",
    "x4_headers = [fits.open(data_dir + 'a' + str(i) + '.fits')[0].header for i in np.arange(241,243,1)]\n",
    "\n",
    "pg_header = x1_headers+x2_headers+x3_headers+x4_headers\n",
    "\n",
    "pg_date = [i[\"DATE-OBS\"] for i in pg_header]\n",
    "pg_time = [i[11:23] for i in pg_date]\n",
    "\n",
    "\n",
    "times = [] \n",
    "for i in pg_time:\n",
    "    time = get_sec(i)\n",
    "    times.append(time)\n",
    "print(times)"
   ]
  },
  {
   "cell_type": "code",
   "execution_count": 34,
   "metadata": {},
   "outputs": [
    {
     "data": {
      "image/png": "[encoded data removed]",
      "text/plain": [
       "<Figure size 432x288 with 1 Axes>"
      ]
     },
     "metadata": {
      "needs_background": "light"
     },
     "output_type": "display_data"
    }
   ],
   "source": [
    "# lets plot these different objects \n",
    "plt.scatter(airmass,np.array([5.139,4.502,4.564,4.994,4.799,3.513,3.683,4.993,4.609]),color='hotpink')\n",
    "plt.scatter(airmass,np.array([5.431,4.710,4.420,5.438,5.454,3.790,3.918,5.076,4.574]),color='dodgerblue')\n",
    "plt.scatter(airmass,np.array([5.646,4.703,4.873,4.443,4.485,3.962,3.676,5.075,4.600]),color='coral')\n",
    "plt.scatter(airmass,np.array([5.452,4.850,4.767,4.569,4.485,4.101,3.815,5.103,4.653]),color='mediumseagreen')\n",
    "plt.xlabel('Airmass')\n",
    "plt.ylabel('FWHM')\n",
    "plt.title('FWHM vs Airmass')\n",
    "plt.show()"
   ]
  },
  {
   "cell_type": "code",
   "execution_count": 35,
   "metadata": {},
   "outputs": [
    {
     "data": {
      "image/png": "[encoded data removed]",
      "text/plain": [
       "<Figure size 432x288 with 1 Axes>"
      ]
     },
     "metadata": {
      "needs_background": "light"
     },
     "output_type": "display_data"
    }
   ],
   "source": [
    "airmass_new = np.array([1.19,1.24,1.52,2.21])\n",
    "plt.scatter(airmass_new,np.array([np.mean([5.139,4.502,4.564]),np.mean([4.994,4.799]),np.mean([3.513,3.683]),np.mean([4.993,4.609])]),color='hotpink')\n",
    "plt.scatter(airmass_new,np.array([np.mean([5.431,4.710,4.420]),np.mean([5.438,5.454]),np.mean([3.790,3.918]),np.mean([5.076,4.574])]),color='dodgerblue')\n",
    "plt.scatter(airmass_new,np.array([np.mean([5.646,4.703,4.873]),np.mean([4.443,4.485]),np.mean([3.962,3.676]),np.mean([5.075,4.600])]),color='coral')\n",
    "plt.scatter(airmass_new,np.array([np.mean([5.452,4.850,4.767]),np.mean([4.569,4.485]),np.mean([4.101,3.815]),np.mean([5.103,4.653])]),color='mediumseagreen')\n",
    "plt.xlabel('Airmass')\n",
    "plt.ylabel('FWHM')\n",
    "plt.title('Average FWHM vs Airmass')\n",
    "plt.show()"
   ]
  },
  {
   "cell_type": "markdown",
   "metadata": {},
   "source": [
    "These plots are a little weird because we would've expected the FWHM to decrease as airmass increases, but maybe there were some weird atmospheric things happening that caused the weird trend we got."
   ]
  },
  {
   "cell_type": "markdown",
   "metadata": {},
   "source": [
    "#### Across the chip in a single exposure: \n",
    "let's look at a bunch of different stars in different chip locations in a single frame and grab the FWHM for each star to see how the psf changes with chip locations:"
   ]
  },
  {
   "cell_type": "code",
   "execution_count": 36,
   "metadata": {},
   "outputs": [],
   "source": [
    "# load an image and zscale\n",
    "# look at a076 (exp_time = 8s), a077 (exp_time = 16s), a078 (exp_time = 32s), a079 (exp_time = 64s)\n",
    "#i = 76\n",
    "#viewer.load_fits(reduced_dir + 'a0' + str(i) + 'otzb.fits')\n",
    "#viewer.scale()"
   ]
  },
  {
   "cell_type": "code",
   "execution_count": 37,
   "metadata": {},
   "outputs": [],
   "source": [
    "# run imexam\n",
    "# holding the mouse over a star and pressing \n",
    "# 'r' will return the results of a radial plot\n",
    "#viewer.imexam()"
   ]
  },
  {
   "cell_type": "code",
   "execution_count": 38,
   "metadata": {},
   "outputs": [],
   "source": [
    "fwhm = np.array([4.779,3.372,5.696,3.524,4.453,3.623,4.529,4.420,4.767,4.537,4.605,4.659,4.781,4.558,4.589,4.436,3.807,4.726,4.673,4.601,4.568,4.489,3.775,4.562,4.358,3.772,3.656,4.215,4.237,4.160])\n",
    "x = np.array([330.7814,255.6294,620.3175,1510.7440,1346.1369,501.1057,996.7770,1260.0815,1452.4574,525.2033,274.8945,1358.0093,1595.1229,1234.5423,997.3774,909.2269,530.6656,138.4789,380.6320,438.8325,608.5834,811.5222,1367.3629,1931.0137,1705.9465,1539.3769,1414.7380,1225.0560,844.7216,23.2310])\n",
    "y = np.array([1845.2638,1748.3192,1714.3152,1746.7129,1661.1078,1472.7433,1525.3146,1223.9071,1184.6184,1179.8153,952.8106,841.6127,872.4707,744.9123,1051.8861,736.1665,602.4787,579.4541,464.4020,414.3747,431.8141,461.8364,620.9516,275.7086,233.6821,190.1608,229.1105,281.3945,275.1177,72.9681])"
   ]
  },
  {
   "cell_type": "code",
   "execution_count": 39,
   "metadata": {},
   "outputs": [
    {
     "data": {
      "image/png": "[encoded data removed]",
      "text/plain": [
       "<Figure size 432x288 with 1 Axes>"
      ]
     },
     "metadata": {
      "needs_background": "light"
     },
     "output_type": "display_data"
    }
   ],
   "source": [
    "# plot fwhm across row and column pixels\n",
    "plt.scatter(x,fwhm,color='hotpink',label='columns')\n",
    "plt.scatter(y,fwhm,color='dodgerblue',label='rows')\n",
    "plt.xlabel('Row/Column Number')\n",
    "plt.ylabel('FWHM')\n",
    "plt.title('FWHM Variation over Rows and Columns')\n",
    "plt.legend()\n",
    "plt.show()\n"
   ]
  },
  {
   "cell_type": "markdown",
   "metadata": {},
   "source": [
    "The plot above shows the variation in FWHM over pixel rows and columns tends to happen towards the edges of the chip. The center of the chip (rows and columns 750-1250) have far less outliers so that region of the chip shows less variation over the pixels."
   ]
  },
  {
   "cell_type": "markdown",
   "metadata": {},
   "source": [
    "## 2: CCDs are ideal because of over the available dynamic range, they are very linear (that is, one photon produces one electron). Test the linearity of the CCD using the sequence of exposures labeled linearity test in the log. Make a plot of ADU versus time and determine whether the chip is linear to the full 16 bits of the A-D converter. What you care about here is whether the signal stays linear with exposure time as the flux in the peak pixel approaches the $2^{16}$ ADU limit. "
   ]
  },
  {
   "cell_type": "code",
   "execution_count": 40,
   "metadata": {},
   "outputs": [
    {
     "name": "stdout",
     "output_type": "stream",
     "text": [
      "[44869.26895760819, 66573.49857045177, 147661.21223328687, 292002.186040241, 592422.0742140663, 1175640.2689728895, 2410803.55731015]\n"
     ]
    }
   ],
   "source": [
    "# read in linearity test frames\n",
    "lin_test = [fits.open(reduced_dir + 'a0' + str(i) + 'otzb.fits')[0].data for i in np.arange(74,81,1)]\n",
    "np.shape(lin_test)\n",
    "max_count = []\n",
    "for i in lin_test:\n",
    "    max_count.append(np.max(i))\n",
    "print(max_count)\n",
    "exp_times = np.array([2,4,8,16,32,64,128])"
   ]
  },
  {
   "cell_type": "code",
   "execution_count": 41,
   "metadata": {},
   "outputs": [
    {
     "data": {
      "image/png": "[encoded data removed]",
      "text/plain": [
       "<Figure size 432x288 with 1 Axes>"
      ]
     },
     "metadata": {
      "needs_background": "light"
     },
     "output_type": "display_data"
    }
   ],
   "source": [
    "plt.scatter(exp_times,max_count,color='hotpink')\n",
    "plt.xlabel('Exposure Time [s]')\n",
    "plt.ylabel('Counts [ADU]')\n",
    "plt.title('ADU vs Exposure Time [s]')\n",
    "plt.show()"
   ]
  },
  {
   "cell_type": "markdown",
   "metadata": {},
   "source": [
    "CCD *is* linear, shown by plot above."
   ]
  },
  {
   "cell_type": "markdown",
   "metadata": {},
   "source": [
    "## 3: Use photutils to perform aperture photometry on three (non saturated) stars in the PG1633+099 standard field: a really faint one, a medium bright one, and a bright one. Perform aperture photometry using at least 5 aperture sizes from very small to very large and make a plot that reproduces the one from Howell Figure 5.7 showing S/N as a function of aperture radius. What is a good aperture size to use for this dataset?"
   ]
  },
  {
   "cell_type": "code",
   "execution_count": 42,
   "metadata": {},
   "outputs": [],
   "source": [
    "# load a085 image and zscale\n",
    "#i = 86\n",
    "#viewer.load_fits(reduced_dir + 'a0' + str(i) + 'otzb.fits')\n",
    "#viewer.scale()"
   ]
  },
  {
   "cell_type": "code",
   "execution_count": 43,
   "metadata": {},
   "outputs": [],
   "source": [
    "# run imexam\n",
    "# holding the mouse over a star and pressing \n",
    "# 'r' will return the results of a radial plot\n",
    "#viewer.imexam()"
   ]
  },
  {
   "cell_type": "code",
   "execution_count": 44,
   "metadata": {},
   "outputs": [],
   "source": [
    "# define star positions and their respective mean background / pixel levels given by imexam \n",
    "bright = [(322.2055,1842.6761)]\n",
    "bright_bkg = 191.09\n",
    "\n",
    "med_bright = [(155.9362,1751.7733)]\n",
    "med_bright_bkg = 129.77\n",
    "\n",
    "dim = [(792.9555,1653.0102)]\n",
    "dim_bkg = 123.52"
   ]
  },
  {
   "cell_type": "code",
   "execution_count": 45,
   "metadata": {},
   "outputs": [],
   "source": [
    "# let's make 5 different apertures for each star, r = 1,2,4,8,12\n",
    "bright_1 = CircularAperture(bright, r=1.)\n",
    "bright_2 = CircularAperture(bright, r=4.)\n",
    "bright_4 = CircularAperture(bright, r=8.)\n",
    "bright_8 = CircularAperture(bright, r=12.)\n",
    "bright_12 = CircularAperture(bright, r=16.)\n",
    "bright_16 = CircularAperture(bright, r=25.)\n",
    "\n",
    "\n",
    "med_bright_1 = CircularAperture(med_bright, r=1.)\n",
    "med_bright_2 = CircularAperture(med_bright, r=4.)\n",
    "med_bright_4 = CircularAperture(med_bright, r=8.)\n",
    "med_bright_8 = CircularAperture(med_bright, r=12.)\n",
    "med_bright_12 = CircularAperture(med_bright, r=16.)\n",
    "med_bright_16 = CircularAperture(med_bright, r=25.)\n",
    "\n",
    "dim_1 = CircularAperture(dim, r=1.)\n",
    "dim_2 = CircularAperture(dim, r=4.)\n",
    "dim_4 = CircularAperture(dim, r=8.)\n",
    "dim_8 = CircularAperture(dim, r=12.)\n",
    "dim_12 = CircularAperture(dim, r=16.)\n",
    "dim_16 = CircularAperture(dim, r=25.)\n",
    "\n",
    "# define annulus aperture around dim star for background calculation: \n",
    "annulus_aperture = CircularAnnulus(dim, r_in=10., r_out=15.)"
   ]
  },
  {
   "cell_type": "code",
   "execution_count": 46,
   "metadata": {},
   "outputs": [
    {
     "data": {
      "text/plain": [
       "123.11056514320688"
      ]
     },
     "execution_count": 46,
     "metadata": {},
     "output_type": "execute_result"
    }
   ],
   "source": [
    "# read in data \n",
    "data = fits.open(reduced_dir+'a085otzb.fits')[0].data\n",
    "\n",
    "# apertures \n",
    "bright_apers = [bright_1,bright_2,bright_4,bright_8,bright_12,bright_16]\n",
    "med_bright_apers = [med_bright_1,med_bright_2,med_bright_4,med_bright_8,med_bright_12,med_bright_16]\n",
    "dim_apers = [dim_1,dim_2,dim_4,dim_8,dim_12,dim_16,annulus_aperture]\n",
    "\n",
    "# apply aperture photometry \n",
    "phot_table_bright = aperture_photometry(data,bright_apers)\n",
    "phot_table_med_bright = aperture_photometry(data,med_bright_apers)\n",
    "phot_table_dim = aperture_photometry(data,dim_apers)\n",
    "#print(phot_table_bright['aperture_sum_0'],phot_table_bright['aperture_sum_2'])\n",
    "\n",
    "# calculate mean background level \n",
    "bkg_mean = phot_table_dim['aperture_sum_6'] / annulus_aperture.area\n",
    "bkg_mean[0]"
   ]
  },
  {
   "cell_type": "code",
   "execution_count": 47,
   "metadata": {},
   "outputs": [
    {
     "name": "stdout",
     "output_type": "stream",
     "text": [
      "  aperture_sum_0  \n",
      "------------------\n",
      "196663.37466563852\n"
     ]
    }
   ],
   "source": [
    "# lets calculate the total signal in each aperture using the eqn S = T - AB \n",
    "# where T: total # of counts in the aperture, A: # of pix in aperture, & B: background / pix\n",
    "t_bright_1,t_bright_2,t_bright_4,t_bright_8,t_bright_12,t_bright_16 = phot_table_bright['aperture_sum_0'],phot_table_bright['aperture_sum_1'],phot_table_bright['aperture_sum_2'],phot_table_bright['aperture_sum_3'],phot_table_bright['aperture_sum_4'],phot_table_bright['aperture_sum_5']\n",
    "t_med_bright_1,t_med_bright_2,t_med_bright_4,t_med_bright_8,t_med_bright_12,t_med_bright_16 = phot_table_med_bright['aperture_sum_0'],phot_table_med_bright['aperture_sum_1'],phot_table_med_bright['aperture_sum_2'],phot_table_med_bright['aperture_sum_3'],phot_table_med_bright['aperture_sum_4'],phot_table_med_bright['aperture_sum_5']\n",
    "t_dim_1,t_dim_2,t_dim_4,t_dim_8,t_dim_12, t_dim_16 = phot_table_dim['aperture_sum_0'],phot_table_dim['aperture_sum_1'],phot_table_dim['aperture_sum_2'],phot_table_dim['aperture_sum_3'],phot_table_dim['aperture_sum_4'],phot_table_dim['aperture_sum_5']\n",
    "print(t_bright_1)\n",
    "\n",
    "bkg = 123.48\n",
    "\n",
    "# bright star signal calculation \n",
    "s_bright_1 = t_bright_1 - (bright_1.area * bright_bkg)    \n",
    "s_bright_2 = t_bright_2 - (bright_2.area * bright_bkg)   \n",
    "s_bright_4 = t_bright_4 - (bright_4.area * bright_bkg)    \n",
    "s_bright_8 = t_bright_8 - (bright_8.area * bright_bkg)    \n",
    "s_bright_12 = t_bright_12 - (bright_12.area * bright_bkg) \n",
    "s_bright_16 = t_bright_16 - (bright_16.area * bright_bkg)\n",
    "\n",
    "# medium bright star signal calculation\n",
    "s_med_bright_1 = t_med_bright_1 - (med_bright_1.area * med_bright_bkg)\n",
    "s_med_bright_2 = t_med_bright_2 - (med_bright_2.area * med_bright_bkg)\n",
    "s_med_bright_4 = t_med_bright_4 - (med_bright_4.area * med_bright_bkg)\n",
    "s_med_bright_8 = t_med_bright_8 - (med_bright_8.area * med_bright_bkg)\n",
    "s_med_bright_12 = t_med_bright_12 - (med_bright_12.area * med_bright_bkg)\n",
    "s_med_bright_16 = t_med_bright_16 - (med_bright_16.area * med_bright_bkg)\n",
    "\n",
    "# dim star signal calculation\n",
    "s_dim_1 = t_dim_1 - (dim_1.area * dim_bkg)\n",
    "s_dim_2 = t_dim_2 - (dim_2.area * dim_bkg)\n",
    "s_dim_4 = t_dim_4 - (dim_4.area * dim_bkg)\n",
    "s_dim_8 = t_dim_8 - (dim_8.area * dim_bkg)\n",
    "s_dim_12 = t_dim_12 - (dim_12.area * dim_bkg)\n",
    "s_dim_16 = t_dim_16 - (dim_16.area * dim_bkg)"
   ]
  },
  {
   "cell_type": "code",
   "execution_count": 48,
   "metadata": {},
   "outputs": [],
   "source": [
    "# let's calculate the noise using the denominator of the S/N equation \n",
    "n_r = 4.5  # WIRO read noise from website\n",
    "\n",
    "# bright star noise calculation \n",
    "bright_noise_1 = np.sqrt(s_bright_1 + (bright_1.area * (bright_bkg + n_r**2)))\n",
    "bright_noise_2 = np.sqrt(s_bright_2 + (bright_2.area * (bright_bkg + n_r**2)))\n",
    "bright_noise_4 = np.sqrt(s_bright_4 + (bright_4.area * (bright_bkg + n_r**2)))\n",
    "bright_noise_8 = np.sqrt(s_bright_8 + (bright_8.area * (bright_bkg + n_r**2)))\n",
    "bright_noise_12 = np.sqrt(s_bright_12 + (bright_12.area * (bright_bkg + n_r**2)))\n",
    "bright_noise_16 = np.sqrt(s_bright_16 + (bright_16.area * (bright_bkg + n_r**2)))\n",
    "\n",
    "# medium bright star noise calculation \n",
    "med_bright_noise_1 = np.sqrt(s_med_bright_1 + (med_bright_1.area * (med_bright_bkg + n_r**2)))\n",
    "med_bright_noise_2 = np.sqrt(s_med_bright_2 + (med_bright_2.area * (med_bright_bkg + n_r**2)))\n",
    "med_bright_noise_4 = np.sqrt(s_med_bright_4 + (med_bright_4.area * (med_bright_bkg + n_r**2)))\n",
    "med_bright_noise_8 = np.sqrt(s_med_bright_8 + (med_bright_8.area * (med_bright_bkg + n_r**2)))\n",
    "med_bright_noise_12 = np.sqrt(s_med_bright_12 + (med_bright_12.area * (med_bright_bkg + n_r**2)))\n",
    "med_bright_noise_16 = np.sqrt(s_med_bright_16 + (med_bright_16.area * (med_bright_bkg + n_r**2)))\n",
    "\n",
    "# dim star noise calculation \n",
    "dim_noise_1 = np.sqrt(s_dim_1 + (dim_1.area * (dim_bkg + n_r**2)))\n",
    "dim_noise_2 = np.sqrt(s_dim_2 + (dim_2.area * (dim_bkg + n_r**2)))\n",
    "dim_noise_4 = np.sqrt(s_dim_4 + (dim_4.area * (dim_bkg + n_r**2)))\n",
    "dim_noise_8 = np.sqrt(s_dim_8 + (dim_8.area * (dim_bkg + n_r**2)))\n",
    "dim_noise_12 = np.sqrt(s_dim_12 + (dim_12.area * (dim_bkg + n_r**2)))\n",
    "dim_noise_16 = np.sqrt(s_dim_16 + (dim_16.area * (dim_bkg + n_r**2)))"
   ]
  },
  {
   "cell_type": "code",
   "execution_count": 49,
   "metadata": {},
   "outputs": [],
   "source": [
    "# lets calculate S/N \n",
    "bright_sn = np.array([s_bright_1[0]/bright_noise_1[0],s_bright_2[0]/bright_noise_2[0],\n",
    "                      s_bright_4[0]/bright_noise_4[0],s_bright_8[0]/bright_noise_8[0],\n",
    "                      s_bright_12[0]/bright_noise_12[0],s_bright_16[0]/bright_noise_16[0]])\n",
    "med_bright_sn = np.array([s_med_bright_1[0]/med_bright_noise_1[0],s_med_bright_2[0]/med_bright_noise_2[0],\n",
    "                          s_med_bright_4[0]/med_bright_noise_4[0],s_med_bright_8[0]/med_bright_noise_8[0],\n",
    "                          s_med_bright_12[0]/med_bright_noise_12[0],s_med_bright_16[0]/med_bright_noise_16[0]])\n",
    "dim_sn = np.array([s_dim_1[0]/dim_noise_1[0],s_dim_2[0]/dim_noise_2[0],\n",
    "                          s_dim_4[0]/dim_noise_4[0],s_dim_8[0]/dim_noise_8[0],\n",
    "                          s_dim_12[0]/dim_noise_12[0],s_dim_16[0]/dim_noise_16[0]])"
   ]
  },
  {
   "cell_type": "code",
   "execution_count": 50,
   "metadata": {},
   "outputs": [
    {
     "data": {
      "image/png": "[encoded data removed]",
      "text/plain": [
       "<Figure size 432x288 with 1 Axes>"
      ]
     },
     "metadata": {
      "needs_background": "light"
     },
     "output_type": "display_data"
    }
   ],
   "source": [
    "# plot S/N versus aperture size \n",
    "radius = np.array([1,4,8,12,16,25])\n",
    "plt.plot(radius,bright_sn,color='hotpink',label='bright star')\n",
    "plt.plot(radius,med_bright_sn,color='dodgerblue',label='medium bright star')\n",
    "plt.plot(radius,dim_sn,color='mediumseagreen',label='dim star')\n",
    "plt.scatter(radius,bright_sn,color='hotpink')\n",
    "plt.scatter(radius,med_bright_sn,color='dodgerblue')\n",
    "plt.scatter(radius,dim_sn,color='mediumseagreen')\n",
    "plt.xlabel('Aperture Radius [pixels]')\n",
    "plt.ylabel('S/N')\n",
    "plt.title('S/N vs Aperture Radius [pixels]')\n",
    "plt.legend()\n",
    "plt.show()"
   ]
  },
  {
   "cell_type": "markdown",
   "metadata": {},
   "source": [
    "The plot above doesn't look exactly like Howell 5.7 and the SNR values seem a bit high (maybe because I picked a *very* bright star), but the general idea is there. It looks like a radius of ~8 pixels fits this dataset best. Something to note is how the medium bright star follows the general trend of a decreasing SNR, but it goes up a little bit when r=25 pixels and I believe this is because there is another medium bright star about 20 pixels away from the medium bright star I chose, so that weird outlier is reasonable and we can just ignore it. "
   ]
  },
  {
   "cell_type": "markdown",
   "metadata": {},
   "source": [
    "## 4: Identify the standard stars in the PG1633+099 frame from Landolt (1992)."
   ]
  },
  {
   "cell_type": "code",
   "execution_count": 51,
   "metadata": {},
   "outputs": [],
   "source": [
    "# Landolt Standard Star positions from Landolt (1992) and imexam:\n",
    "# PG1633 +099 position: \n",
    "o_position = [(988.8693,1049.2816)]\n",
    "o_bkg = 138.14\n",
    "# PG1633 +099A position: \n",
    "a_position = [(1044.8043,1043.2177)]\n",
    "a_bkg = 128.62\n",
    "# PG1633 +099B position:\n",
    "b_position = [(1251.6689,1221.4301)]\n",
    "b_bkg = 173.73\n",
    "# PG1633 +099C position: \n",
    "c_position = [(1363.9824,1230.9676)]\n",
    "c_bkg = 162\n",
    "# PG1633 +099D position: \n",
    "d_position = [(1444.0142,1182.0363)]\n",
    "d_bkg = 150.58"
   ]
  },
  {
   "cell_type": "markdown",
   "metadata": {},
   "source": [
    "## 5: Extract instrumental magnitudes for all of your standard stars using an approach that you’ve advocated for as best you can in the questions above."
   ]
  },
  {
   "cell_type": "markdown",
   "metadata": {},
   "source": [
    "To get the instrumental magnitudes, we can work with the information we get from imexam to solve for the rate of photons, then convert that to a flux, and then that to a magnitude. \n",
    "Problem 3 tells us a radius of 8 pixels if best for this dataset, so we'll use that. We also know from problem 2 that the CCD chip is linear, so we know that one photon releases one electron, which makes it easy for us to get the rate of photons. "
   ]
  },
  {
   "cell_type": "code",
   "execution_count": 52,
   "metadata": {},
   "outputs": [],
   "source": [
    "def snr(position,radius,data,bkg,read_noise):\n",
    "    \"\"\"\n",
    "    This function calculates the total signal and S/N of a source given its position, aperture radius, image data,\n",
    "    background level, and read noise. \n",
    "    params:\n",
    "    -position: position of source in image\n",
    "    -radius: aperture radius\n",
    "    -data: image data\n",
    "    -bkg: background level [counts/pix]\n",
    "    -read_noise: read noise of telescope\n",
    "    returns:\n",
    "    -total_signal: total source signal given in ADU counts\n",
    "    -sn_ratio: S/N of source\n",
    "    \"\"\"\n",
    "    aperture = CircularAperture(position, r=int(radius))\n",
    "    phot_table = aperture_photometry(data,aperture)\n",
    "    total_counts = phot_table['aperture_sum']\n",
    "    aperture_bkg = aperture.area * bkg\n",
    "    total_signal = total_counts - aperture_bkg\n",
    "    total_noise = np.sqrt(total_signal + (aperture.area * (bkg + read_noise**2)))\n",
    "    sn_ratio = total_signal[0]/total_noise[0]\n",
    "    return total_signal, sn_ratio"
   ]
  },
  {
   "cell_type": "code",
   "execution_count": 53,
   "metadata": {},
   "outputs": [],
   "source": [
    "def rs(total_signal, exp_time, gain):\n",
    "    \"\"\"\n",
    "    This function returns the rate of photons per second of a specific source given a total signal, an exposure \n",
    "    time, and the gain. \n",
    "    params:\n",
    "    -total_signal: total source signal given in ADU counts\n",
    "    -exp_time: exposure time of image\n",
    "    -gain: gain of the telescope\n",
    "    returns:\n",
    "    -photon_rate: rate of photons per second in the aperture\n",
    "    \"\"\"\n",
    "    count_rate = total_signal / exp_time  # rate of counts per second\n",
    "    photon_rate = count_rate[0] * gain  # use gain to get rate of photons per second (assuming 1 electron = 1 photon, supported by #2)\n",
    "    return photon_rate"
   ]
  },
  {
   "cell_type": "code",
   "execution_count": 54,
   "metadata": {},
   "outputs": [],
   "source": [
    "def flux(rs,qe,bandwidth,aperture_radius,filter_wavelength):\n",
    "    \"\"\"\n",
    "    This function calculates the flux in Jy of a specified source given the rate of photons, the efficiency of the \n",
    "    instrument, the filter bandwidth, the aperture radius of the telescope, and the central filter wavelength.\n",
    "    params:\n",
    "    -rs: rate of photons per second\n",
    "    -qe: efficiency of telescope\n",
    "    -bandwidth: filter bandwidth [Angstrom]\n",
    "    -aperture_radius: the radius of the telescope aperture [cm]\n",
    "    -filter_wavelength: central wavelength of the filter [Angstrom]\n",
    "    returns:\n",
    "    -flux_jy: the flux of the source [Jy]\n",
    "    \"\"\"\n",
    "    # calculate flux \n",
    "    flux_ph_s = rs / (qe*bandwidth*np.pi*(aperture_radius**2))  # flux [ph/s/cm^2/angstrom^2]\n",
    "    # how many erg / photon \n",
    "    e_ph = (6.624e-27 * 3e18) / filter_wavelength\n",
    "    # photon --> erg\n",
    "    flux_erg_s_ang = flux_ph_s * e_ph\n",
    "    # how many hz in an angstrom\n",
    "    hz_ang = 3e18 / (filter_wavelength**2)  # hz/angstrom\n",
    "    # per angstrom --> per hz\n",
    "    flux_erg_s_hz = flux_erg_s_ang / hz_ang\n",
    "    # 10^-23 erg / s / cm^2 / Hz --> 1 Jy \n",
    "    flux_jy = flux_erg_s_hz / 10e-23\n",
    "    \n",
    "    return flux_jy"
   ]
  },
  {
   "cell_type": "code",
   "execution_count": 55,
   "metadata": {},
   "outputs": [],
   "source": [
    "def mag(flux,zero_point):\n",
    "    \"\"\"\n",
    "    This function calculates a magnitude given a flux and a zero_point wavelength. \n",
    "    params:\n",
    "    -flux: flux of the source [Jy]\n",
    "    -zero_point: Vega zero point flux [Jy\n",
    "    returns:\n",
    "    -m: magnitude]\n",
    "    \"\"\"\n",
    "    m = -2.5 * np.log10(flux/zero_point)\n",
    "    return m "
   ]
  },
  {
   "cell_type": "code",
   "execution_count": 56,
   "metadata": {
    "scrolled": true
   },
   "outputs": [
    {
     "name": "stdout",
     "output_type": "stream",
     "text": [
      "Frame a085\n",
      "PG1633+099:  17.78114200616227\n",
      "PG1633+099A:  18.713394766119563\n",
      "PG1633+099B: 16.437674333056954\n",
      "PG1633+099C: 16.69984839800342\n",
      "PG1633+099D: 17.118448736916218\n"
     ]
    }
   ],
   "source": [
    "# calculate the magnitudes of the Landolt standard stars at x=1.18\n",
    "print('Frame a085')\n",
    "\n",
    "# PG1633+099\n",
    "ts_o, snr_o = snr(o_position,8,data,o_bkg,n_r)\n",
    "rs_o = rs(ts_o,20,2)\n",
    "flux_o = flux(rs_o,1,980,115,5600)\n",
    "mag_o = mag(flux_o,3540)\n",
    "print('PG1633+099: ',mag_o)\n",
    "\n",
    "# PG1633+099A\n",
    "ts_a, snr_a = snr(a_position,8,data,a_bkg,n_r)\n",
    "rs_a = rs(ts_a,20,2)\n",
    "flux_a = flux(rs_a,1,980,115,5600)\n",
    "mag_a = mag(flux_a,3540)\n",
    "print('PG1633+099A: ',mag_a)\n",
    "\n",
    "# PG1633+099B\n",
    "ts_b, snr_b = snr(b_position,8,data,b_bkg,n_r)\n",
    "rs_b = rs(ts_b,20,2)\n",
    "flux_b = flux(rs_b,1,980,115,5600)\n",
    "mag_b = mag(flux_b,3540)\n",
    "print('PG1633+099B:',mag_b)\n",
    "\n",
    "# PG1633+099C\n",
    "ts_c, snr_c = snr(c_position,8,data,c_bkg,n_r)\n",
    "rs_c = rs(ts_c,20,2)\n",
    "flux_c = flux(rs_c,1,980,115,5600)\n",
    "mag_c = mag(flux_c,3540)\n",
    "print('PG1633+099C:',mag_c)\n",
    "\n",
    "# PG1633+099D\n",
    "ts_d, snr_d = snr(d_position,8,data,d_bkg,n_r)\n",
    "rs_d = rs(ts_d,20,2)\n",
    "flux_d = flux(rs_d,1,980,115,5600)\n",
    "mag_d = mag(flux_d,3540)\n",
    "print('PG1633+099D:',mag_d)"
   ]
  },
  {
   "cell_type": "markdown",
   "metadata": {},
   "source": [
    "## 6: Plot your standard star instrumental magnitudes versus their airmass (or since you have many different standard stars taken at different airmass, plot the difference between the accepted magnitude and your instrumental magnitude versus airmass). Use one of the linear fitting routines in Python to do a least squares fit to find and plot the extinction coefficients at each filter. You can find their magnitudes and colors in Landolt (1992)."
   ]
  },
  {
   "cell_type": "markdown",
   "metadata": {},
   "source": [
    "### V filter: "
   ]
  },
  {
   "cell_type": "code",
   "execution_count": 57,
   "metadata": {},
   "outputs": [],
   "source": [
    "# v frames with 4 different airmasses\n",
    "data = fits.open(reduced_dir+'a085otzb.fits')[0].data # already done in problem 5\n",
    "data86 = fits.open(reduced_dir+'a086otzb.fits')[0].data \n",
    "data134 = fits.open(reduced_dir+'a134otzb.fits')[0].data\n",
    "data206 = fits.open(reduced_dir+'a206otzb.fits')[0].data\n",
    "data241 = fits.open(reduced_dir+'a241otzb.fits')[0].data"
   ]
  },
  {
   "cell_type": "code",
   "execution_count": 58,
   "metadata": {},
   "outputs": [],
   "source": [
    "# load an image and zscale\n",
    "#V filter: a085 (x=1.18), a134 (x=1.24), a206 (x=1.52), a241 (x=2.21)\n",
    "#i = 241\n",
    "#viewer.load_fits(reduced_dir + 'a' + str(i) + 'otzb.fits')\n",
    "#viewer.scale()"
   ]
  },
  {
   "cell_type": "code",
   "execution_count": 59,
   "metadata": {},
   "outputs": [],
   "source": [
    "# run imexam\n",
    "# holding the mouse over a star and pressing \n",
    "# 'r' will return the results of a radial plot\n",
    "#viewer.imexam()"
   ]
  },
  {
   "cell_type": "code",
   "execution_count": 60,
   "metadata": {},
   "outputs": [
    {
     "name": "stdout",
     "output_type": "stream",
     "text": [
      "Frame 134\n",
      "PG1633+099:  17.77645717313613\n",
      "PG1633+099A:  18.713859302649837\n",
      "PG1633+099B: 16.44008951596041\n",
      "PG1633+099C: 16.696431494288\n",
      "PG1633+099D: 17.116149471526736\n"
     ]
    }
   ],
   "source": [
    "# a134, x = 1.24\n",
    "bkg134, bkg134a, bkg134b, bkg134c, bkg134d = 60.54, 56.29, 77.56, 71.10, 65.39\n",
    "print('Frame 134')\n",
    "\n",
    "# PG1633+099A\n",
    "o_position_134 = [(931.8114,1043.4527)]\n",
    "ts_134o, snr_134o = snr(o_position_134,8,data134,bkg134,n_r)\n",
    "rs_134o = rs(ts_134o,10,2)\n",
    "flux_134o = flux(rs_134o,1,980,115,5600)\n",
    "mag_134o = mag(flux_134o,3540)\n",
    "print('PG1633+099: ',mag_134o)\n",
    "\n",
    "# PG1633+099A\n",
    "a_position_134 = [(987.6935,1037.3559)]\n",
    "ts_134a, snr_134a = snr(a_position_134,8,data134,bkg134a,n_r)\n",
    "rs_134a = rs(ts_134a,10,2)\n",
    "flux_134a = flux(rs_134a,1,980,115,5600)\n",
    "mag_134a = mag(flux_134a,3540)\n",
    "print('PG1633+099A: ',mag_134a)\n",
    "\n",
    "# PG1633+099B\n",
    "b_position_134 = [(1194.6649,1215.5003)]\n",
    "ts_134b, snr_134b = snr(b_position_134,8,data134,bkg134b,n_r)\n",
    "rs_134b = rs(ts_134b,10,2)\n",
    "flux_134b = flux(rs_134b,1,980,115,5600)\n",
    "mag_134b = mag(flux_134b,3540)\n",
    "print('PG1633+099B:',mag_134b)\n",
    "\n",
    "# PG1633+099C\n",
    "c_position_134 = [(1307.0203,1225.0279)]\n",
    "ts_134c, snr_134c = snr(c_position_134,8,data134,bkg134c,n_r)\n",
    "rs_134c = rs(ts_134c,10,2)\n",
    "flux_134c = flux(rs_134c,1,980,115,5600)\n",
    "mag_134c = mag(flux_134c,3540)\n",
    "print('PG1633+099C:',mag_134c)\n",
    "\n",
    "# PG1633+099D\n",
    "d_position_134 = [(1386.9958,1176.1045)]\n",
    "ts_134d, snr_134d = snr(d_position_134,8,data134,bkg134d,n_r)\n",
    "rs_134d = rs(ts_134d,10,2)\n",
    "flux_134d = flux(rs_134d,1,980,115,5600)\n",
    "mag_134d = mag(flux_134d,3540)\n",
    "print('PG1633+099D:',mag_134d)\n"
   ]
  },
  {
   "cell_type": "code",
   "execution_count": 61,
   "metadata": {},
   "outputs": [
    {
     "name": "stdout",
     "output_type": "stream",
     "text": [
      "Frame a206\n",
      "PG1633+099:  17.85681427290846\n",
      "PG1633+099A:  18.79273456047834\n",
      "PG1633+099B: 16.521630928170122\n",
      "PG1633+099C: 16.781170849568376\n",
      "PG1633+099D: 17.198233141881964\n"
     ]
    }
   ],
   "source": [
    "# a206, x = 1.52\n",
    "bkg206, bkg206a, bkg206b, bkg206c, bkg206d = 65.05, 60.88, 79.35, 75.32, 69.61\n",
    "print('Frame a206')\n",
    "\n",
    "# PG1633+099A\n",
    "o_position_206 = [(924.4200,1037.0850)]\n",
    "ts_206o, snr_206o = snr(o_position_206,8,data206,bkg206,n_r)\n",
    "rs_206o = rs(ts_206o,10,2)\n",
    "flux_206o = flux(rs_206o,1,980,115,5380)\n",
    "mag_206o = mag(flux_206o,3540)\n",
    "print('PG1633+099: ',mag_206o)\n",
    "\n",
    "# PG1633+099A\n",
    "a_position_206 = [(980.2808,1030.9913)]\n",
    "ts_206a, snr_206a = snr(a_position_206,8,data206,bkg206a,n_r)\n",
    "rs_206a = rs(ts_206a,10,2)\n",
    "flux_206a = flux(rs_206a,1,980,115,5380)\n",
    "mag_206a = mag(flux_206a,3540)\n",
    "print('PG1633+099A: ',mag_206a)\n",
    "\n",
    "# PG1633+099B\n",
    "b_position_206 = [(1187.3291,1208.8482)]\n",
    "ts_206b, snr_206b = snr(b_position_206,8,data206,bkg206b,n_r)\n",
    "rs_206b = rs(ts_206b,10,2)\n",
    "flux_206b = flux(rs_206b,1,980,115,5380)\n",
    "mag_206b = mag(flux_206b,3540)\n",
    "print('PG1633+099B:',mag_206b)\n",
    "\n",
    "# PG1633+099C\n",
    "c_position_206 = [(1299.5210,1218.2870)]\n",
    "ts_206c, snr_206c = snr(c_position_206,8,data206,bkg206c,n_r)\n",
    "rs_206c = rs(ts_206c,10,2)\n",
    "flux_206c = flux(rs_206c,1,980,115,5380)\n",
    "mag_206c = mag(flux_206c,3540)\n",
    "print('PG1633+099C:',mag_206c)\n",
    "\n",
    "# PG1633+099D\n",
    "d_position_206 = [(1379.4238,1169.3869)]\n",
    "ts_206d, snr_206d = snr(d_position_206,8,data206,bkg206d,n_r)\n",
    "rs_206d = rs(ts_206d,10,2)\n",
    "flux_206d = flux(rs_206d,1,980,115,5380)\n",
    "mag_206d = mag(flux_206d,3540)\n",
    "print('PG1633+099D:',mag_206d)\n",
    "\n"
   ]
  },
  {
   "cell_type": "code",
   "execution_count": 62,
   "metadata": {},
   "outputs": [
    {
     "name": "stdout",
     "output_type": "stream",
     "text": [
      "Frame a241\n",
      "PG1633+099:  17.94442240563982\n",
      "PG1633+099A:  18.884510465220792\n",
      "PG1633+099B: 16.598193070863875\n",
      "PG1633+099C: 16.863655962888842\n",
      "PG1633+099D: 17.281472418066464\n"
     ]
    }
   ],
   "source": [
    "# a241, x = 1.21\n",
    "print('Frame a241')\n",
    "\n",
    "bkg241, bkg241a, bkg241b, bkg241c, bkg241d = 90.59, 84.97, 107.86, 103.26, 96.10\n",
    "\n",
    "# PG1633+099\n",
    "o_position_241 = [(838.3983,1039.8686)]\n",
    "ts_241o, snr_241o = snr(o_position_241,8,data241,bkg241,n_r)\n",
    "rs_241o = rs(ts_241o,10,2)\n",
    "flux_241o = flux(rs_241o,1,980,115,5600)\n",
    "mag_241o = mag(flux_241o,3540)\n",
    "print('PG1633+099: ',mag_241o)\n",
    "\n",
    "# PG1633+099A\n",
    "a_position_241 = [(894.1723,1033.8103)]\n",
    "ts_241a, snr_241a = snr(a_position_241,8,data241,bkg241a,n_r)\n",
    "rs_241a = rs(ts_241a,10,2)\n",
    "flux_241a = flux(rs_241a,1,980,115,5600)\n",
    "mag_241a = mag(flux_241a,3540)\n",
    "print('PG1633+099A: ',mag_241a)\n",
    "\n",
    "# PG1633+099B\n",
    "b_position_241 = [(1101.0419,1211.7487)]\n",
    "ts_241b, snr_241b = snr(b_position_241,8,data241,bkg241b,n_r)\n",
    "rs_241b = rs(ts_241b,10,2)\n",
    "flux_241b = flux(rs_241b,1,980,115,5600)\n",
    "mag_241b = mag(flux_241b,3540)\n",
    "print('PG1633+099B:',mag_241b)\n",
    "\n",
    "# PG1633+099C\n",
    "c_position_241 = [(1213.2665,1221.1236)]\n",
    "ts_241c, snr_241c = snr(c_position_241,8,data241,bkg241c,n_r)\n",
    "rs_241c = rs(ts_241c,10,2)\n",
    "flux_241c = flux(rs_241c,1,980,115,5600)\n",
    "mag_241c = mag(flux_241c,3540)\n",
    "print('PG1633+099C:',mag_241c)\n",
    "\n",
    "# PG1633+099D\n",
    "d_position_241 = [(1293.3106,1172.1290)]\n",
    "ts_241d, snr_241d = snr(d_position_241,8,data241,bkg241d,n_r)\n",
    "rs_241d = rs(ts_241d,10,2)\n",
    "flux_241d = flux(rs_241d,1,980,115,5600)\n",
    "mag_241d = mag(flux_241d,3540)\n",
    "print('PG1633+099D:',mag_241d)"
   ]
  },
  {
   "cell_type": "code",
   "execution_count": 63,
   "metadata": {},
   "outputs": [],
   "source": [
    "# 85\n",
    "pg_ov = np.array([mag_o,mag_134o,mag_206o,mag_241o])  \n",
    "pg_av = np.array([mag_a,mag_134a,mag_206a,mag_241a])\n",
    "pg_bv = np.array([mag_b,mag_134b,mag_206b,mag_241b])\n",
    "pg_cv = np.array([mag_c,mag_134c,mag_206c,mag_241c])\n",
    "pg_dv = np.array([mag_d,mag_134d,mag_206d,mag_241d])"
   ]
  },
  {
   "cell_type": "code",
   "execution_count": 64,
   "metadata": {},
   "outputs": [],
   "source": [
    "airmass_new = np.array([1.18,1.24,1.52,2.21])\n",
    "abs_mvo = np.array([14.397])\n",
    "abs_mva = np.array([15.256])\n",
    "abs_mvb = np.array([12.969])\n",
    "abs_mvc = np.array([13.299])\n",
    "abs_mvd = np.array([13.691])"
   ]
  },
  {
   "cell_type": "code",
   "execution_count": 65,
   "metadata": {},
   "outputs": [
    {
     "data": {
      "image/png": "[encoded data removed]",
      "text/plain": [
       "<Figure size 432x288 with 1 Axes>"
      ]
     },
     "metadata": {
      "needs_background": "light"
     },
     "output_type": "display_data"
    },
    {
     "name": "stdout",
     "output_type": "stream",
     "text": [
      "Extinction Coefficient for V: 0.16381551128618055\n"
     ]
    }
   ],
   "source": [
    "plt.plot(airmass_new,pg_ov-abs_mvo,color='hotpink',label='PG1633+099',marker='o')\n",
    "plt.plot(airmass_new,pg_av-abs_mva,color='dodgerblue',label='PG1633+099A',marker='o')\n",
    "plt.plot(airmass_new,pg_bv-abs_mvb,color='mediumseagreen',label='PG1633+099B',marker='o')\n",
    "plt.plot(airmass_new,pg_cv-abs_mvc,color='coral',label='PG1633+099C',marker='o')\n",
    "plt.plot(airmass_new,pg_dv-abs_mvd,color='purple',label='PG1633+099D',marker='o')\n",
    "# calculate extinction coefficient:\n",
    "m86avg = np.mean([mag_o-abs_mvo,mag_a-abs_mva,mag_b-abs_mvb,mag_c-abs_mvc,mag_d-abs_mvd]) \n",
    "m134avg = np.mean([mag_134o-abs_mvo,mag_134a-abs_mva,mag_134b-abs_mvb,mag_134c-abs_mvc,mag_134d-abs_mvd]) \n",
    "m206avg = np.mean([mag_206o-abs_mvo,mag_206a-abs_mva,mag_206b-abs_mvb,mag_206c-abs_mvc,mag_206d-abs_mvd]) \n",
    "m241avg = np.mean([mag_241o-abs_mvo,mag_241a-abs_mva,mag_241b-abs_mvb,mag_241c-abs_mvc,mag_241d-abs_mvd]) \n",
    "extinc_coeff, b = np.polyfit(airmass_new,np.array([m86avg,m134avg,m206avg,m241avg]),deg=1)\n",
    "plt.plot(airmass_new, extinc_coeff*airmass_new+b,linestyle='dotted',color='k',label='best fit')\n",
    "plt.xlabel('Airmass')\n",
    "plt.ylabel('m-M')\n",
    "plt.title('Instrumental Magnitudes - Absolute Magnitudes in V filter versus Airmass')\n",
    "plt.legend()\n",
    "plt.show()\n",
    "print('Extinction Coefficient for V:', extinc_coeff)"
   ]
  },
  {
   "cell_type": "markdown",
   "metadata": {},
   "source": [
    "### U Filter"
   ]
  },
  {
   "cell_type": "code",
   "execution_count": 66,
   "metadata": {},
   "outputs": [],
   "source": [
    "# u frames with 4 different airmasses\n",
    "data82 = fits.open(reduced_dir+'a082otzb.fits')[0].data   # x = 1.18\n",
    "data131 = fits.open(reduced_dir+'a131otzb.fits')[0].data  # x = 1.24\n",
    "data202 = fits.open(reduced_dir+'a202otzb.fits')[0].data  # x = 1.49\n",
    "\n",
    "airmass_u = np.array([1.18,1.24,1.49])"
   ]
  },
  {
   "cell_type": "code",
   "execution_count": 67,
   "metadata": {},
   "outputs": [],
   "source": [
    "# load an image and zscale\n",
    "#i = 82\n",
    "#viewer.load_fits(reduced_dir + 'a0' + str(i) + 'otzb.fits')\n",
    "#viewer.scale()"
   ]
  },
  {
   "cell_type": "code",
   "execution_count": 68,
   "metadata": {},
   "outputs": [],
   "source": [
    "# run imexam\n",
    "# holding the mouse over a star and pressing \n",
    "# 'r' will return the results of a radial plot\n",
    "#viewer.imexam()"
   ]
  },
  {
   "cell_type": "code",
   "execution_count": 69,
   "metadata": {},
   "outputs": [
    {
     "name": "stdout",
     "output_type": "stream",
     "text": [
      "Frame a082\n",
      "PG1633+099:  18.922737754014324\n",
      "PG1633+099A:  21.87756103827791\n",
      "PG1633+099B: 20.399526608288046\n",
      "PG1633+099C: 20.81048917873371\n",
      "PG1633+099D: 19.66404784032356\n"
     ]
    }
   ],
   "source": [
    "# a082, x = 1.18\n",
    "print('Frame a082')\n",
    "\n",
    "bkg82, bkg82a, bkg82b, bkg82c, bkg82d = 38.86, 31.65, 32.92, 32.18, 35.01\n",
    "\n",
    "# PG1633+099\n",
    "o_position_82 = [(990.7649,1048.7891)]\n",
    "ts_82o, snr_82o = snr(o_position_82,8,data82,bkg82,n_r)\n",
    "rs_82o = rs(ts_82o,60,2)\n",
    "flux_82o = flux(rs_82o,1,700,115,3640)\n",
    "mag_82o = mag(flux_82o,1790)\n",
    "print('PG1633+099: ',mag_82o)\n",
    "\n",
    "# PG1633+099A\n",
    "a_position_82 = [(1046.6186,1042.8799)]\n",
    "ts_82a, snr_82a = snr(a_position_82,8,data82,bkg82a,n_r)\n",
    "rs_82a = rs(ts_82a,60,2)\n",
    "flux_82a = flux(rs_82a,1,700,115,3640)\n",
    "mag_82a = mag(flux_82a,1790)\n",
    "print('PG1633+099A: ',mag_82a)\n",
    "\n",
    "# PG1633+099B\n",
    "b_position_82 = [(1253.3659,1220.8600)]\n",
    "ts_82b, snr_82b = snr(b_position_82,8,data82,bkg82b,n_r)\n",
    "rs_82b = rs(ts_82b,60,2)\n",
    "flux_82b = flux(rs_82b,1,700,115,3640)\n",
    "mag_82b = mag(flux_82b,1790)\n",
    "print('PG1633+099B:',mag_82b)\n",
    "\n",
    "# PG1633+099C\n",
    "c_position_82 = [(1365.6294,1230.4990)]\n",
    "ts_82c, snr_82c = snr(c_position_82,8,data82,bkg82c,n_r)\n",
    "rs_82c = rs(ts_82c,60,2)\n",
    "flux_82c = flux(rs_82c,1,700,115,3640)\n",
    "mag_82c = mag(flux_82c,1790)\n",
    "print('PG1633+099C:',mag_82c)\n",
    "\n",
    "# PG1633+099D\n",
    "d_position_82 = [(1445.5867,1181.4573)]\n",
    "ts_82d, snr_82d = snr(d_position_82,8,data82,bkg82d,n_r)\n",
    "rs_82d = rs(ts_82d,60,2)\n",
    "flux_82d = flux(rs_82d,1,700,115,3640)\n",
    "mag_82d = mag(flux_82d,1790)\n",
    "print('PG1633+099D:',mag_82d)"
   ]
  },
  {
   "cell_type": "code",
   "execution_count": 70,
   "metadata": {},
   "outputs": [
    {
     "name": "stdout",
     "output_type": "stream",
     "text": [
      "Frame a131\n",
      "PG1633+099:  18.95379148709803\n",
      "PG1633+099A:  21.918161702327488\n",
      "PG1633+099B: 20.42121099978772\n",
      "PG1633+099C: 20.829324388657025\n",
      "PG1633+099D: 19.686731134420302\n"
     ]
    }
   ],
   "source": [
    "# a131, x = 1.24\n",
    "print('Frame a131')\n",
    "\n",
    "bkg131, bkg131a, bkg131b, bkg131c, bkg131d = 32.40, 25.49, 27.11, 25.70, 28.09\n",
    "\n",
    "# PG1633+099\n",
    "o_position_131 = [(932.5169,1042.7109)]\n",
    "ts_131o, snr_131o = snr(o_position_131,8,data131,bkg131,n_r)\n",
    "rs_131o = rs(ts_131o,60,2)\n",
    "flux_131o = flux(rs_131o,1,700,115,3640)\n",
    "mag_131o = mag(flux_131o,1790)\n",
    "print('PG1633+099: ',mag_131o)\n",
    "\n",
    "# PG1633+099A\n",
    "a_position_131 = [(988.3426,1036.7606)]\n",
    "ts_131a, snr_131a = snr(a_position_131,8,data131,bkg131a,n_r)\n",
    "rs_131a = rs(ts_131a,60,2)\n",
    "flux_131a = flux(rs_131a,1,700,115,3640)\n",
    "mag_131a = mag(flux_131a,1790)\n",
    "print('PG1633+099A: ',mag_131a)\n",
    "\n",
    "# PG1633+099B\n",
    "b_position_131 = [(1195.1758,1214.7985)]\n",
    "ts_131b, snr_131b = snr(b_position_131,8,data131,bkg131b,n_r)\n",
    "rs_131b = rs(ts_131b,60,2)\n",
    "flux_131b = flux(rs_131b,1,700,115,3640)\n",
    "mag_131b = mag(flux_131b,1790)\n",
    "print('PG1633+099B:',mag_131b)\n",
    "\n",
    "# PG1633+099C\n",
    "c_position_131 = [(1307.4158,1224.3034)]\n",
    "ts_131c, snr_131c = snr(c_position_131,8,data131,bkg131c,n_r)\n",
    "rs_131c = rs(ts_131c,60,2)\n",
    "flux_131c = flux(rs_131c,1,700,115,3640)\n",
    "mag_131c = mag(flux_131c,1790)\n",
    "print('PG1633+099C:',mag_131c)\n",
    "\n",
    "# PG1633+099D\n",
    "d_position_131 = [(1387.4306,1175.2736)]\n",
    "ts_131d, snr_131d = snr(d_position_131,8,data131,bkg131d,n_r)\n",
    "rs_131d = rs(ts_131d,60,2)\n",
    "flux_131d = flux(rs_131d,1,700,115,3640)\n",
    "mag_131d = mag(flux_131d,1790)\n",
    "print('PG1633+099D:',mag_131d)"
   ]
  },
  {
   "cell_type": "code",
   "execution_count": 71,
   "metadata": {},
   "outputs": [
    {
     "name": "stdout",
     "output_type": "stream",
     "text": [
      "Frame a202\n",
      "PG1633+099:  19.061440312519892\n",
      "PG1633+099A:  22.04609534452638\n",
      "PG1633+099B: 20.525241836397026\n",
      "PG1633+099C: 20.919087165340258\n",
      "PG1633+099D: 19.799814170840268\n"
     ]
    }
   ],
   "source": [
    "# a202, x = 1.49\n",
    "print('Frame a202')\n",
    "\n",
    "bkg202, bkg202a, bkg202b, bkg202c, bkg202d = 31.64, 25.54, 27.06, 26.29, 28.76\n",
    "\n",
    "# PG1633+099\n",
    "o_position_202 = [(924.5755,1036.3678)]\n",
    "ts_202o, snr_202o = snr(o_position_202,8,data202,bkg202,n_r)\n",
    "rs_202o = rs(ts_202o,60,2)\n",
    "flux_202o = flux(rs_202o,1,700,115,3640)\n",
    "mag_202o = mag(flux_202o,1790)\n",
    "print('PG1633+099: ',mag_202o)\n",
    "\n",
    "# PG1633+099A\n",
    "a_position_202 = [(980.3126,1030.3654)]\n",
    "ts_202a, snr_202a = snr(a_position_202,8,data202,bkg202a,n_r)\n",
    "rs_202a = rs(ts_202a,60,2)\n",
    "flux_202a = flux(rs_202a,1,700,115,3640)\n",
    "mag_202a = mag(flux_202a,1790)\n",
    "print('PG1633+099A: ',mag_202a)\n",
    "\n",
    "# PG1633+099B\n",
    "b_position_202 = [(1187.2128,1208.3025)]\n",
    "ts_202b, snr_202b = snr(b_position_202,8,data202,bkg202b,n_r)\n",
    "rs_202b = rs(ts_202b,60,2)\n",
    "flux_202b = flux(rs_202b,1,700,115,3640)\n",
    "mag_202b = mag(flux_202b,1790)\n",
    "print('PG1633+099B:',mag_202b)\n",
    "\n",
    "# PG1633+099C\n",
    "c_position_202 = [(1299.4304,1217.7813)]\n",
    "ts_202c, snr_202c = snr(c_position_202,8,data202,bkg202c,n_r)\n",
    "rs_202c = rs(ts_202c,60,2)\n",
    "flux_202c = flux(rs_202c,1,700,115,3640)\n",
    "mag_202c = mag(flux_202c,1790)\n",
    "print('PG1633+099C:',mag_202c)\n",
    "\n",
    "# PG1633+099D\n",
    "d_position_202 = [(1379.4295,1168.6927)]\n",
    "ts_202d, snr_202d = snr(d_position_202,8,data202,bkg202d,n_r)\n",
    "rs_202d = rs(ts_202d,60,2)\n",
    "flux_202d = flux(rs_202d,1,700,115,3640)\n",
    "mag_202d = mag(flux_202d,1790)\n",
    "print('PG1633+099D:',mag_202d)"
   ]
  },
  {
   "cell_type": "code",
   "execution_count": 72,
   "metadata": {},
   "outputs": [],
   "source": [
    "pg_ou = np.array([mag_82o,mag_131o,mag_202o])  \n",
    "pg_au = np.array([mag_82a,mag_131a,mag_202a])\n",
    "pg_bu = np.array([mag_82b,mag_131b,mag_202b])\n",
    "pg_cu = np.array([mag_82c,mag_131c,mag_202c])\n",
    "pg_du = np.array([mag_82d,mag_131d,mag_202d])"
   ]
  },
  {
   "cell_type": "code",
   "execution_count": 73,
   "metadata": {},
   "outputs": [],
   "source": [
    "abs_muo = np.array([14.397-0.192-0.974])\n",
    "abs_mua = np.array([15.256+0.873+0.320])\n",
    "abs_mub = np.array([12.969+1.081+1.007])\n",
    "abs_muc = np.array([13.299+1.134+1.138])\n",
    "abs_mud = np.array([13.691+0.535-0.025])"
   ]
  },
  {
   "cell_type": "code",
   "execution_count": 74,
   "metadata": {},
   "outputs": [
    {
     "data": {
      "image/png": "[encoded data removed]",
      "text/plain": [
       "<Figure size 432x288 with 1 Axes>"
      ]
     },
     "metadata": {
      "needs_background": "light"
     },
     "output_type": "display_data"
    },
    {
     "name": "stdout",
     "output_type": "stream",
     "text": [
      "Extinction Coefficient for U: 0.16381551128618055\n"
     ]
    }
   ],
   "source": [
    "plt.plot(airmass_u,pg_ou-abs_muo,color='hotpink',label='PG1633+099',marker='o')\n",
    "plt.plot(airmass_u,pg_au-abs_mua,color='dodgerblue',label='PG1633+099A',marker='o')\n",
    "plt.plot(airmass_u,pg_bu-abs_mub,color='mediumseagreen',label='PG1633+099B',marker='o')\n",
    "plt.plot(airmass_u,pg_cu-abs_muc,color='coral',label='PG1633+099C',marker='o')\n",
    "plt.plot(airmass_u,pg_du-abs_mud,color='purple',label='PG1633+099D',marker='o')\n",
    "# calculate extinction coefficient:\n",
    "m82avg = np.mean([mag_82o-abs_muo,mag_82a-abs_mua,mag_82b-abs_mub,mag_82c-abs_muc,mag_82d-abs_mud]) \n",
    "m131avg = np.mean([mag_131o-abs_muo,mag_131a-abs_mua,mag_131b-abs_mub,mag_131c-abs_muc,mag_131d-abs_mud]) \n",
    "m202avg = np.mean([mag_202o-abs_muo,mag_202a-abs_mua,mag_202b-abs_mub,mag_202c-abs_muc,mag_202d-abs_mud])  \n",
    "extinc_coeff_u, bu = np.polyfit(airmass_u,np.array([m82avg,m131avg,m202avg]),deg=1)\n",
    "#extinc_coeff_u, bu = np.polyfit(airmass_u,pg_du-abs_mud,deg=1)\n",
    "plt.plot(airmass_u, extinc_coeff_u*airmass_u+bu,linestyle='dotted',color='k',label='best fit')\n",
    "plt.xlabel('Airmass')\n",
    "plt.ylabel('m-M')\n",
    "plt.title('Instrumental Magnitudes - Absolute Magnitudes in U filter versus Airmass')\n",
    "plt.legend()\n",
    "plt.show()\n",
    "print('Extinction Coefficient for U:', extinc_coeff)"
   ]
  },
  {
   "cell_type": "markdown",
   "metadata": {},
   "source": [
    "### B Filter"
   ]
  },
  {
   "cell_type": "code",
   "execution_count": 75,
   "metadata": {},
   "outputs": [],
   "source": [
    "# b frames with 4 different airmasses\n",
    "data83 = fits.open(reduced_dir+'a083otzb.fits')[0].data   # x = 1.18\n",
    "data132 = fits.open(reduced_dir+'a131otzb.fits')[0].data  # x = 1.24\n",
    "data204 = fits.open(reduced_dir+'a204otzb.fits')[0].data  # x = 1.51\n",
    "data239 = fits.open(reduced_dir+'a239otzb.fits')[0].data  # x = 2.19\n",
    "\n",
    "#airmass_b = np.array([1.18,1.24,1.51,2.19])\n",
    "airmass_b = np.array([1.18,1.51,2.19])"
   ]
  },
  {
   "cell_type": "code",
   "execution_count": 76,
   "metadata": {},
   "outputs": [],
   "source": [
    "# load an image and zscale\n",
    "#i = 239\n",
    "#viewer.load_fits(reduced_dir + 'a' + str(i) + 'otzb.fits')\n",
    "#viewer.scale()"
   ]
  },
  {
   "cell_type": "code",
   "execution_count": 77,
   "metadata": {},
   "outputs": [],
   "source": [
    "# run imexam\n",
    "# holding the mouse over a star and pressing \n",
    "# 'r' will return the results of a radial plot\n",
    "#viewer.imexam()"
   ]
  },
  {
   "cell_type": "code",
   "execution_count": 78,
   "metadata": {},
   "outputs": [
    {
     "name": "stdout",
     "output_type": "stream",
     "text": [
      "Frame a083\n",
      "PG1633+099:  18.233954230395288\n",
      "PG1633+099A:  20.059010746457847\n",
      "PG1633+099B: 17.942062273268405\n",
      "PG1633+099C: 18.245336817222203\n",
      "PG1633+099D: 18.173224894590977\n"
     ]
    }
   ],
   "source": [
    "# a083, x = 1.18\n",
    "print('Frame a083')\n",
    "\n",
    "bkg83, bkg83a, bkg83b, bkg83c, bkg83d = 97.37, 80.28, 104.57, 97.27, 99.29\n",
    "\n",
    "# PG1633+099\n",
    "o_position_83 = [(989.7946,1049.1142)]\n",
    "ts_83o, snr_83o = snr(o_position_83,8,data83,bkg83,n_r)\n",
    "rs_83o = rs(ts_83o,30,2)\n",
    "flux_83o = flux(rs_83o,1,980,115,4350)\n",
    "mag_83o = mag(flux_83o,4063)\n",
    "print('PG1633+099: ',mag_83o)\n",
    "\n",
    "# PG1633+099A\n",
    "a_position_83 = [(1045.7126,1043.1206)]\n",
    "ts_83a, snr_83a = snr(a_position_83,8,data83,bkg83a,n_r)\n",
    "rs_83a = rs(ts_83a,30,2)\n",
    "flux_83a = flux(rs_83a,1,980,115,4350)\n",
    "mag_83a = mag(flux_83a,4063)\n",
    "print('PG1633+099A: ',mag_83a)\n",
    "\n",
    "# PG1633+099B\n",
    "b_position_83 = [(1252.5092,1221.2240)]\n",
    "ts_83b, snr_83b = snr(b_position_83,8,data83,bkg83b,n_r)\n",
    "rs_83b = rs(ts_83b,30,2)\n",
    "flux_83b = flux(rs_83b,1,980,115,4350)\n",
    "mag_83b = mag(flux_83b,4063)\n",
    "print('PG1633+099B:',mag_83b)\n",
    "\n",
    "# PG1633+099C\n",
    "c_position_83 = [(1364.8239,1230.8181)]\n",
    "ts_83c, snr_83c = snr(c_position_83,8,data83,bkg83c,n_r)\n",
    "rs_83c = rs(ts_83c,30,2)\n",
    "flux_83c = flux(rs_83c,1,980,115,4350)\n",
    "mag_83c = mag(flux_83c,4063)\n",
    "print('PG1633+099C:',mag_83c)\n",
    "\n",
    "# PG1633+099D\n",
    "d_position_83 = [(1444.8014,1181.8430)]\n",
    "ts_83d, snr_83d = snr(d_position_83,8,data83,bkg83d,n_r)\n",
    "rs_83d = rs(ts_83d,30,2)\n",
    "flux_83d = flux(rs_83d,1,980,115,4350)\n",
    "mag_83d = mag(flux_83d,4063)\n",
    "print('PG1633+099D:',mag_83d)"
   ]
  },
  {
   "cell_type": "code",
   "execution_count": 79,
   "metadata": {},
   "outputs": [
    {
     "name": "stdout",
     "output_type": "stream",
     "text": [
      "Frame a132\n",
      "PG1633+099:  19.34292269729052\n",
      "PG1633+099A:  24.60508493495201\n",
      "PG1633+099B: 21.16142314829306\n",
      "PG1633+099C: 21.760430904326412\n",
      "PG1633+099D: 20.174004401858163\n"
     ]
    }
   ],
   "source": [
    "# a132, x = 1.51\n",
    "print('Frame a132')\n",
    "\n",
    "bkg132, bkg132a, bkg132b, bkg132c, bkg132d = 91.94, 74.25, 98.74, 91.10, 92.81\n",
    "\n",
    "# PG1633+099\n",
    "o_position_132 = [(932.2793,1043.1982)]\n",
    "ts_132o, snr_132o = snr(o_position_132,8,data132,bkg132,n_r)\n",
    "rs_132o = rs(ts_132o,30,2)\n",
    "flux_132o = flux(rs_132o,1,980,115,4350)\n",
    "mag_132o = mag(flux_132o,4063)\n",
    "print('PG1633+099: ',mag_132o)\n",
    "\n",
    "# PG1633+099A\n",
    "a_position_132 = [(988.1543,1037.1708)]\n",
    "ts_132a, snr_132a = snr(a_position_132,8,data132,bkg132a,n_r)\n",
    "rs_132a = rs(ts_132a,30,2)\n",
    "flux_132a = flux(rs_132a,1,980,115,4350)\n",
    "mag_132a = mag(flux_132a,4063)\n",
    "print('PG1633+099A: ',mag_132a)\n",
    "\n",
    "# PG1633+099B\n",
    "b_position_132 = [(1195.0605,1215.2481)]\n",
    "ts_132b, snr_132b = snr(b_position_132,8,data132,bkg132b,n_r)\n",
    "rs_132b = rs(ts_132b,30,2)\n",
    "flux_132b = flux(rs_132b,1,980,115,4350)\n",
    "mag_132b = mag(flux_132b,4063)\n",
    "print('PG1633+099B:',mag_132b)\n",
    "\n",
    "# PG1633+099C\n",
    "c_position_132 = [(1307.3550,1224.7506)]\n",
    "ts_132c, snr_132c = snr(c_position_132,8,data132,bkg132c,n_r)\n",
    "rs_132c = rs(ts_132c,30,2)\n",
    "flux_132c = flux(rs_132c,1,980,115,4350)\n",
    "mag_132c = mag(flux_132c,4063)\n",
    "print('PG1633+099C:',mag_132c)\n",
    "\n",
    "# PG1633+099D\n",
    "d_position_132 = [(1387.3330,1175.7330)]\n",
    "ts_132d, snr_132d = snr(d_position_132,8,data132,bkg132d,n_r)\n",
    "rs_132d = rs(ts_132d,30,2)\n",
    "flux_132d = flux(rs_132d,1,980,115,4350)\n",
    "mag_132d = mag(flux_132d,4063)\n",
    "print('PG1633+099D:',mag_132d)"
   ]
  },
  {
   "cell_type": "code",
   "execution_count": 80,
   "metadata": {},
   "outputs": [
    {
     "name": "stdout",
     "output_type": "stream",
     "text": [
      "Frame a204\n",
      "PG1633+099:  18.318351773068898\n",
      "PG1633+099A:  20.141673707945166\n",
      "PG1633+099B: 18.01583493385844\n",
      "PG1633+099C: 18.319377786073535\n",
      "PG1633+099D: 18.254514395853892\n"
     ]
    }
   ],
   "source": [
    "# a204, x = 1.51\n",
    "print('Frame a204')\n",
    "\n",
    "bkg204, bkg204a, bkg204b, bkg204c, bkg204d = 91.04, 77.34, 97.48, 92.07, 93.84\n",
    "\n",
    "# PG1633+099\n",
    "o_position_204 = [(924.9946,1036.4846)]\n",
    "ts_204o, snr_204o = snr(o_position_204,8,data204,bkg204,n_r)\n",
    "rs_204o = rs(ts_204o,30,2)\n",
    "flux_204o = flux(rs_204o,1,980,115,4350)\n",
    "mag_204o = mag(flux_204o,4063)\n",
    "print('PG1633+099: ',mag_204o)\n",
    "\n",
    "# PG1633+099A\n",
    "a_position_204 = [(980.7339,1030.4813)]\n",
    "ts_204a, snr_204a = snr(a_position_204,8,data204,bkg204a,n_r)\n",
    "rs_204a = rs(ts_204a,30,2)\n",
    "flux_204a = flux(rs_204a,1,980,115,4350)\n",
    "mag_204a = mag(flux_204a,4063)\n",
    "print('PG1633+099A: ',mag_204a)\n",
    "\n",
    "# PG1633+099B\n",
    "b_position_204 = [(1187.6259,1208.4365)]\n",
    "ts_204b, snr_204b = snr(b_position_204,8,data204,bkg204b,n_r)\n",
    "rs_204b = rs(ts_204b,30,2)\n",
    "flux_204b = flux(rs_204b,1,980,115,4350)\n",
    "mag_204b = mag(flux_204b,4063)\n",
    "print('PG1633+099B:',mag_204b)\n",
    "\n",
    "# PG1633+099C\n",
    "c_position_204 = [(1299.9223,1217.8956)]\n",
    "ts_204c, snr_204c = snr(c_position_204,8,data204,bkg204c,n_r)\n",
    "rs_204c = rs(ts_204c,30,2)\n",
    "flux_204c = flux(rs_204c,1,980,115,4350)\n",
    "mag_204c = mag(flux_204c,4063)\n",
    "print('PG1633+099C:',mag_204c)\n",
    "\n",
    "# PG1633+099D\n",
    "d_position_204 = [(1379.9225,1168.8463)]\n",
    "ts_204d, snr_204d = snr(d_position_204,8,data204,bkg204d,n_r)\n",
    "rs_204d = rs(ts_204d,30,2)\n",
    "flux_204d = flux(rs_204d,1,980,115,4350)\n",
    "mag_204d = mag(flux_204d,4063)\n",
    "print('PG1633+099D:',mag_204d)"
   ]
  },
  {
   "cell_type": "code",
   "execution_count": 81,
   "metadata": {},
   "outputs": [
    {
     "name": "stdout",
     "output_type": "stream",
     "text": [
      "Frame a239\n",
      "PG1633+099:  18.490663824048013\n",
      "PG1633+099A:  20.2880110560527\n",
      "PG1633+099B: 18.17671212025665\n",
      "PG1633+099C: 18.483693617367905\n",
      "PG1633+099D: 18.424663755127487\n"
     ]
    }
   ],
   "source": [
    "# a239, x = 2.19\n",
    "print('Frame a239')\n",
    "\n",
    "bkg204, bkg204a, bkg204b, bkg204c, bkg204d = 149.65, 135.94, 156.74, 150.25, 151.17\n",
    "\n",
    "# PG1633+099\n",
    "o_position_204 = [(837.7018,1038.8247)]\n",
    "ts_204o, snr_204o = snr(o_position_204,8,data239,bkg204,n_r)\n",
    "rs_204o = rs(ts_204o,30,2)\n",
    "flux_204o = flux(rs_204o,1,980,115,4350)\n",
    "mag_239o = mag(flux_204o,4063)\n",
    "print('PG1633+099: ',mag_239o)\n",
    "\n",
    "# PG1633+099A\n",
    "a_position_204 = [(893.4000,1032.8616)]\n",
    "ts_204a, snr_204a = snr(a_position_204,8,data239,bkg204a,n_r)\n",
    "rs_204a = rs(ts_204a,30,2)\n",
    "flux_204a = flux(rs_204a,1,980,115,4350)\n",
    "mag_239a = mag(flux_204a,4063)\n",
    "print('PG1633+099A: ',mag_239a)\n",
    "\n",
    "# PG1633+099B\n",
    "b_position_204 = [(1100.2189,1210.7662)]\n",
    "ts_204b, snr_204b = snr(b_position_204,8,data239,bkg204b,n_r)\n",
    "rs_204b = rs(ts_204b,30,2)\n",
    "flux_204b = flux(rs_204b,1,980,115,4350)\n",
    "mag_239b = mag(flux_204b,4063)\n",
    "print('PG1633+099B:',mag_239b)\n",
    "\n",
    "# PG1633+099C\n",
    "c_position_204 = [(1212.4243,1220.2523)]\n",
    "ts_204c, snr_204c = snr(c_position_204,8,data239,bkg204c,n_r)\n",
    "rs_204c = rs(ts_204c,30,2)\n",
    "flux_204c = flux(rs_204c,1,980,115,4350)\n",
    "mag_239c = mag(flux_204c,4063)\n",
    "print('PG1633+099C:',mag_239c)\n",
    "\n",
    "# PG1633+099D\n",
    "d_position_204 = [(1292.3681,1171.1871)]\n",
    "ts_204d, snr_204d = snr(d_position_204,8,data239,bkg204d,n_r)\n",
    "rs_204d = rs(ts_204d,30,2)\n",
    "flux_204d = flux(rs_204d,1,980,115,4350)\n",
    "mag_239d = mag(flux_204d,4063)\n",
    "print('PG1633+099D:',mag_239d)"
   ]
  },
  {
   "cell_type": "code",
   "execution_count": 82,
   "metadata": {},
   "outputs": [],
   "source": [
    "#pg_ob = np.array([mag_83o,mag_132o,mag_204o,mag_239o])  \n",
    "#pg_ab = np.array([mag_83a,mag_132a,mag_204a,mag_239a])\n",
    "#pg_bb = np.array([mag_83b,mag_132b,mag_204b,mag_239b])\n",
    "#pg_cb = np.array([mag_83c,mag_132c,mag_204c,mag_239c])\n",
    "#pg_db = np.array([mag_83d,mag_132d,mag_204d,mag_239d])\n",
    "\n",
    "# get rid of 132- made it look too ugly (probably calculated something wrong but couldn't find the error)\n",
    "pg_ob = np.array([mag_83o,mag_204o,mag_239o])  \n",
    "pg_ab = np.array([mag_83a,mag_204a,mag_239a])\n",
    "pg_bb = np.array([mag_83b,mag_204b,mag_239b])\n",
    "pg_cb = np.array([mag_83c,mag_204c,mag_239c])\n",
    "pg_db = np.array([mag_83d,mag_204d,mag_239d])"
   ]
  },
  {
   "cell_type": "code",
   "execution_count": 83,
   "metadata": {},
   "outputs": [],
   "source": [
    "abs_mbo = np.array([14.397-0.192])\n",
    "abs_mba = np.array([15.256+0.873])\n",
    "abs_mbb = np.array([12.969+1.081])\n",
    "abs_mbc = np.array([13.299+1.134])\n",
    "abs_mbd = np.array([13.691+0.535])"
   ]
  },
  {
   "cell_type": "code",
   "execution_count": 84,
   "metadata": {},
   "outputs": [
    {
     "data": {
      "image/png": "[encoded data removed]",
      "text/plain": [
       "<Figure size 432x288 with 1 Axes>"
      ]
     },
     "metadata": {
      "needs_background": "light"
     },
     "output_type": "display_data"
    },
    {
     "name": "stdout",
     "output_type": "stream",
     "text": [
      "extinction coefficient for B: 0.1481532452241637\n"
     ]
    }
   ],
   "source": [
    "plt.plot(airmass_b,pg_ob-abs_mbo,color='hotpink',label='PG1633+099',marker='o')\n",
    "plt.plot(airmass_b,pg_ab-abs_mba,color='dodgerblue',label='PG1633+099A',marker='o')\n",
    "plt.plot(airmass_b,pg_bb-abs_mbb,color='mediumseagreen',label='PG1633+099B',marker='o')\n",
    "plt.plot(airmass_b,pg_cb-abs_mbc,color='coral',label='PG1633+099C',marker='o')\n",
    "plt.plot(airmass_b,pg_db-abs_mbd,color='purple',label='PG1633+099D',marker='o')\n",
    "# calculate extinction coefficient:\n",
    "m83avg = np.mean([mag_83o-abs_mbo,mag_83a-abs_mba,mag_83b-abs_mbb,mag_83c-abs_mbc,mag_83d-abs_mbd])  \n",
    "m204avg = np.mean([mag_204o-abs_mbo,mag_204a-abs_mbb,mag_204b-abs_mbb,mag_204c-abs_mbc,mag_204d-abs_mbd]) \n",
    "m239avg = np.mean([mag_239o-abs_mbo,mag_239a-abs_mba,mag_239b-abs_mbb,mag_239c-abs_mbc,mag_239d-abs_mbd]) \n",
    "extinc_coeff_b, bb = np.polyfit(airmass_b,np.array([m83avg,m204avg,m239avg]),deg=1)\n",
    "plt.plot(airmass_b, extinc_coeff_b*airmass_b+bb,linestyle='dotted',color='k',label='best fit')\n",
    "plt.xlabel('Airmass')\n",
    "plt.ylabel('m-M')\n",
    "plt.title('Instrumental Magnitudes - Absolute Magnitudes in B filter versus Airmass')\n",
    "plt.legend()\n",
    "plt.show()\n",
    "print('extinction coefficient for B:', extinc_coeff_b)"
   ]
  },
  {
   "cell_type": "markdown",
   "metadata": {},
   "source": [
    "### R Filter"
   ]
  },
  {
   "cell_type": "code",
   "execution_count": 85,
   "metadata": {},
   "outputs": [],
   "source": [
    "# b frames with 4 different airmasses\n",
    "data87 = fits.open(reduced_dir+'a087otzb.fits')[0].data   # x = 1.18\n",
    "data136 = fits.open(reduced_dir+'a136otzb.fits')[0].data  # x = 1.24\n",
    "data208 = fits.open(reduced_dir+'a208otzb.fits')[0].data  # x = 1.53\n",
    "data243 = fits.open(reduced_dir+'a243otzb.fits')[0].data  # x = 2.23\n",
    "\n",
    "airmass_r = np.array([1.18,1.24,1.53,2.23])"
   ]
  },
  {
   "cell_type": "code",
   "execution_count": 86,
   "metadata": {},
   "outputs": [],
   "source": [
    "# load an image and zscale\n",
    "#i = 243\n",
    "#viewer.load_fits(reduced_dir + 'a' + str(i) + 'otzb.fits')\n",
    "#viewer.scale()"
   ]
  },
  {
   "cell_type": "code",
   "execution_count": 87,
   "metadata": {},
   "outputs": [],
   "source": [
    "# run imexam\n",
    "# holding the mouse over a star and pressing \n",
    "# 'r' will return the results of a radial plot\n",
    "#viewer.imexam()"
   ]
  },
  {
   "cell_type": "code",
   "execution_count": 88,
   "metadata": {},
   "outputs": [
    {
     "name": "stdout",
     "output_type": "stream",
     "text": [
      "Frame a087\n",
      "PG1633+099:  17.772619489488438\n",
      "PG1633+099A:  18.127627690762957\n",
      "PG1633+099B: 15.757298988566257\n",
      "PG1633+099C: 15.988530480727139\n",
      "PG1633+099D: 16.707478931151442\n"
     ]
    }
   ],
   "source": [
    "# a087, x = 1.18\n",
    "print('Frame a087')\n",
    "\n",
    "bkg83, bkg83a, bkg83b, bkg83c, bkg83d = 112.47, 111.01, 151.64, 143.95, 124.87\n",
    "\n",
    "# PG1633+099\n",
    "o_position_83 = [(988.7272,1049.8628)]\n",
    "ts_83o, snr_83o = snr(o_position_83,8,data87,bkg83,n_r)\n",
    "rs_83o = rs(ts_83o,10,2)\n",
    "flux_83o = flux(rs_83o,1,1180,115,6250)\n",
    "mag_87o = mag(flux_83o,3064)\n",
    "print('PG1633+099: ',mag_87o)\n",
    "\n",
    "# PG1633+099A\n",
    "a_position_83 = [(1044.6470,1043.8324)]\n",
    "ts_83a, snr_83a = snr(a_position_83,8,data87,bkg83a,n_r)\n",
    "rs_83a = rs(ts_83a,10,2)\n",
    "flux_83a = flux(rs_83a,1,1180,115,6250)\n",
    "mag_87a = mag(flux_83a,3064)\n",
    "print('PG1633+099A: ',mag_87a)\n",
    "\n",
    "# PG1633+099B\n",
    "b_position_83 = [(1251.4666,1221.9080)]\n",
    "ts_83b, snr_83b = snr(b_position_83,8,data87,bkg83b,n_r)\n",
    "rs_83b = rs(ts_83b,10,2)\n",
    "flux_83b = flux(rs_83b,1,1180,115,6250)\n",
    "mag_87b = mag(flux_83b,3064)\n",
    "print('PG1633+099B:',mag_87b)\n",
    "\n",
    "# PG1633+099C\n",
    "c_position_83 = [(1363.7783,1231.5034)]\n",
    "ts_83c, snr_83c = snr(c_position_83,8,data87,bkg83c,n_r)\n",
    "rs_83c = rs(ts_83c,10,2)\n",
    "flux_83c = flux(rs_83c,1,1180,115,6250)\n",
    "mag_87c = mag(flux_83c,3064)\n",
    "print('PG1633+099C:',mag_87c)\n",
    "\n",
    "# PG1633+099D\n",
    "d_position_83 = [(1443.8081,1182.5492)]\n",
    "ts_83d, snr_83d = snr(d_position_83,8,data87,bkg83d,n_r)\n",
    "rs_83d = rs(ts_83d,10,2)\n",
    "flux_83d = flux(rs_83d,1,1180,115,6250)\n",
    "mag_87d = mag(flux_83d,3064)\n",
    "print('PG1633+099D:',mag_87d)"
   ]
  },
  {
   "cell_type": "code",
   "execution_count": 89,
   "metadata": {},
   "outputs": [
    {
     "name": "stdout",
     "output_type": "stream",
     "text": [
      "Frame a136\n",
      "PG1633+099:  17.773897381842648\n",
      "PG1633+099A:  18.119529281986203\n",
      "PG1633+099B: 15.757784037018714\n",
      "PG1633+099C: 15.980517430361916\n",
      "PG1633+099D: 16.697231491091465\n"
     ]
    }
   ],
   "source": [
    "# a136, x = 2.23\n",
    "print('Frame a136')\n",
    "\n",
    "bkg83, bkg83a, bkg83b, bkg83c, bkg83d = 99.94, 96.01, 132.05, 123.63, 109.63\n",
    "\n",
    "# PG1633+099\n",
    "o_position_83 = [(931.5163,1044.2382)]\n",
    "ts_83o, snr_83o = snr(o_position_83,8,data136,bkg83,n_r)\n",
    "rs_83o = rs(ts_83o,10,2)\n",
    "flux_83o = flux(rs_83o,1,1180,115,6250)\n",
    "mag_136o = mag(flux_83o,3064)\n",
    "print('PG1633+099: ',mag_136o)\n",
    "\n",
    "# PG1633+099A\n",
    "a_position_83 = [(987.3934,1038.1242)]\n",
    "ts_83a, snr_83a = snr(a_position_83,8,data136,bkg83a,n_r)\n",
    "rs_83a = rs(ts_83a,10,2)\n",
    "flux_83a = flux(rs_83a,1,1180,115,6250)\n",
    "mag_136a = mag(flux_83a,3064)\n",
    "print('PG1633+099A: ',mag_136a)\n",
    "\n",
    "# PG1633+099B\n",
    "b_position_83 = [(1194.2610,1216.2219)]\n",
    "ts_83b, snr_83b = snr(b_position_83,8,data136,bkg83b,n_r)\n",
    "rs_83b = rs(ts_83b,10,2)\n",
    "flux_83b = flux(rs_83b,1,1180,115,6250)\n",
    "mag_136b = mag(flux_83b,3064)\n",
    "print('PG1633+099B:',mag_136b)\n",
    "\n",
    "# PG1633+099C\n",
    "c_position_83 = [(1306.5664,1225.7117)]\n",
    "ts_83c, snr_83c = snr(c_position_83,8,data136,bkg83c,n_r)\n",
    "rs_83c = rs(ts_83c,10,2)\n",
    "flux_83c = flux(rs_83c,1,1180,115,6250)\n",
    "mag_136c = mag(flux_83c,3064)\n",
    "print('PG1633+099C:',mag_136c)\n",
    "\n",
    "# PG1633+099D\n",
    "d_position_83 = [(1386.5527,1176.7377)]\n",
    "ts_83d, snr_83d = snr(d_position_83,8,data136,bkg83d,n_r)\n",
    "rs_83d = rs(ts_83d,10,2)\n",
    "flux_83d = flux(rs_83d,1,1180,115,6250)\n",
    "mag_136d = mag(flux_83d,3064)\n",
    "print('PG1633+099D:',mag_136d)"
   ]
  },
  {
   "cell_type": "code",
   "execution_count": 90,
   "metadata": {},
   "outputs": [
    {
     "name": "stdout",
     "output_type": "stream",
     "text": [
      "Frame a208\n",
      "PG1633+099:  17.79464957104709\n",
      "PG1633+099A:  18.152136030141964\n",
      "PG1633+099B: 15.791221589399997\n",
      "PG1633+099C: 16.012684055574148\n",
      "PG1633+099D: 16.72104871723977\n"
     ]
    }
   ],
   "source": [
    "# a208, x = 1.53\n",
    "print('Frame a208')\n",
    "\n",
    "bkg83, bkg83a, bkg83b, bkg83c, bkg83d = 105.98, 103.91, 135.66, 128.86, 114.66\n",
    "\n",
    "# PG1633+099\n",
    "o_position_83 = [(924.4301,1037.7273)]\n",
    "ts_83o, snr_83o = snr(o_position_83,8,data208,bkg83,n_r)\n",
    "rs_83o = rs(ts_83o,10,2)\n",
    "flux_83o = flux(rs_83o,1,1180,115,6250)\n",
    "mag_208o = mag(flux_83o,3064)\n",
    "print('PG1633+099: ',mag_208o)\n",
    "\n",
    "# PG1633+099A\n",
    "a_position_83 = [(980.3030,1031.6084)]\n",
    "ts_83a, snr_83a = snr(a_position_83,8,data208,bkg83a,n_r)\n",
    "rs_83a = rs(ts_83a,10,2)\n",
    "flux_83a = flux(rs_83a,1,1180,115,6250)\n",
    "mag_208a = mag(flux_83a,3064)\n",
    "print('PG1633+099A: ',mag_208a)\n",
    "\n",
    "# PG1633+099B\n",
    "b_position_83 = [(1187.3421,1209.6226)]\n",
    "ts_83b, snr_83b = snr(b_position_83,8,data208,bkg83b,n_r)\n",
    "rs_83b = rs(ts_83b,10,2)\n",
    "flux_83b = flux(rs_83b,1,1180,115,6250)\n",
    "mag_208b = mag(flux_83b,3064)\n",
    "print('PG1633+099B:',mag_208b)\n",
    "\n",
    "# PG1633+099C\n",
    "c_position_83 = [(1299.6309,1218.9211)]\n",
    "ts_83c, snr_83c = snr(c_position_83,8,data208,bkg83c,n_r)\n",
    "rs_83c = rs(ts_83c,10,2)\n",
    "flux_83c = flux(rs_83c,1,1180,115,6250)\n",
    "mag_208c = mag(flux_83c,3064)\n",
    "print('PG1633+099C:',mag_208c)\n",
    "\n",
    "# PG1633+099D\n",
    "d_position_83 = [(1379.6208,1169.9547)]\n",
    "ts_83d, snr_83d = snr(d_position_83,8,data208,bkg83d,n_r)\n",
    "rs_83d = rs(ts_83d,10,2)\n",
    "flux_83d = flux(rs_83d,1,1180,115,6250)\n",
    "mag_208d = mag(flux_83d,3064)\n",
    "print('PG1633+099D:',mag_208d)"
   ]
  },
  {
   "cell_type": "code",
   "execution_count": 91,
   "metadata": {},
   "outputs": [
    {
     "name": "stdout",
     "output_type": "stream",
     "text": [
      "Frame a243\n",
      "PG1633+099:  17.905724743848932\n",
      "PG1633+099A:  18.26289113046962\n",
      "PG1633+099B: 15.892441032708613\n",
      "PG1633+099C: 16.121168389787947\n",
      "PG1633+099D: 16.841467067098982\n"
     ]
    }
   ],
   "source": [
    "# a243, x = 2.23\n",
    "print('Frame a243')\n",
    "\n",
    "bkg83, bkg83a, bkg83b, bkg83c, bkg83d = 134.07, 130.83, 169.96, 162.83, 144.67\n",
    "\n",
    "# PG1633+099\n",
    "o_position_83 = [(837.3626,1040.7888)]\n",
    "ts_83o, snr_83o = snr(o_position_83,8,data243,bkg83,n_r)\n",
    "rs_83o = rs(ts_83o,10,2)\n",
    "flux_83o = flux(rs_83o,1,1180,115,6250)\n",
    "mag_243o = mag(flux_83o,3064)\n",
    "print('PG1633+099: ',mag_243o)\n",
    "\n",
    "# PG1633+099A\n",
    "a_position_83 = [(893.1543,1034.7043)]\n",
    "ts_83a, snr_83a = snr(a_position_83,8,data243,bkg83a,n_r)\n",
    "rs_83a = rs(ts_83a,10,2)\n",
    "flux_83a = flux(rs_83a,1,1180,115,6250)\n",
    "mag_243a = mag(flux_83a,3064)\n",
    "print('PG1633+099A: ',mag_243a)\n",
    "\n",
    "# PG1633+099B\n",
    "b_position_83 = [(1099.8202,1212.3659)]\n",
    "ts_83b, snr_83b = snr(b_position_83,8,data243,bkg83b,n_r)\n",
    "rs_83b = rs(ts_83b,10,2)\n",
    "flux_83b = flux(rs_83b,1,1180,115,6250)\n",
    "mag_243b = mag(flux_83b,3064)\n",
    "print('PG1633+099B:',mag_243b)\n",
    "\n",
    "# PG1633+099C\n",
    "c_position_83 = [(1211.9555,1221.7941)]\n",
    "ts_83c, snr_83c = snr(c_position_83,8,data243,bkg83c,n_r)\n",
    "rs_83c = rs(ts_83c,10,2)\n",
    "flux_83c = flux(rs_83c,1,1180,115,6250)\n",
    "mag_243c = mag(flux_83c,3064)\n",
    "print('PG1633+099C:',mag_243c)\n",
    "\n",
    "# PG1633+099D\n",
    "d_position_83 = [(1291.7977,1172.7929)]\n",
    "ts_83d, snr_83d = snr(d_position_83,8,data243,bkg83d,n_r)\n",
    "rs_83d = rs(ts_83d,10,2)\n",
    "flux_83d = flux(rs_83d,1,1180,115,6250)\n",
    "mag_243d = mag(flux_83d,3064)\n",
    "print('PG1633+099D:',mag_243d)"
   ]
  },
  {
   "cell_type": "code",
   "execution_count": 92,
   "metadata": {},
   "outputs": [],
   "source": [
    "pg_or = np.array([mag_87o,mag_136o,mag_208o,mag_243o])  \n",
    "pg_ar = np.array([mag_87a,mag_136a,mag_208a,mag_243a])\n",
    "pg_br = np.array([mag_87b,mag_136b,mag_208b,mag_243b])\n",
    "pg_cr = np.array([mag_87c,mag_136c,mag_208c,mag_243c])\n",
    "pg_dr = np.array([mag_87d,mag_136d,mag_208d,mag_243d])"
   ]
  },
  {
   "cell_type": "code",
   "execution_count": 93,
   "metadata": {},
   "outputs": [],
   "source": [
    "abs_mro = np.array([14.397+0.093])\n",
    "abs_mra = np.array([15.256-0.505])\n",
    "abs_mrb = np.array([12.969-0.590])\n",
    "abs_mrc = np.array([13.299-0.618])\n",
    "abs_mrd = np.array([13.691-0.324])"
   ]
  },
  {
   "cell_type": "code",
   "execution_count": 94,
   "metadata": {},
   "outputs": [
    {
     "data": {
      "image/png": "[encoded data removed]",
      "text/plain": [
       "<Figure size 432x288 with 1 Axes>"
      ]
     },
     "metadata": {
      "needs_background": "light"
     },
     "output_type": "display_data"
    },
    {
     "name": "stdout",
     "output_type": "stream",
     "text": [
      "extinction coefficient for R: 0.13361296480500118\n"
     ]
    }
   ],
   "source": [
    "plt.plot(airmass_r,pg_or-abs_mro,color='hotpink',label='PG1633+099',marker='o')\n",
    "plt.plot(airmass_r,pg_ar-abs_mra,color='dodgerblue',label='PG1633+099A',marker='o')\n",
    "plt.plot(airmass_r,pg_br-abs_mrb,color='mediumseagreen',label='PG1633+099B',marker='o')\n",
    "plt.plot(airmass_r,pg_cr-abs_mrc,color='coral',label='PG1633+099C',marker='o')\n",
    "plt.plot(airmass_r,pg_dr-abs_mrd,color='purple',label='PG1633+099D',marker='o')\n",
    "# calculate extinction coefficient:\n",
    "m87avg = np.mean([mag_87o-abs_mro,mag_87a-abs_mra,mag_87b-abs_mrb,mag_87c-abs_mrc,mag_87d-abs_mrd]) \n",
    "m136avg = np.mean([mag_136o-abs_mro,mag_136a-abs_mra,mag_136b-abs_mrb,mag_136c-abs_mrc,mag_136d-abs_mrd]) \n",
    "m208avg = np.mean([mag_208o-abs_mro,mag_208a-abs_mra,mag_208b-abs_mrb,mag_208c-abs_mrc,mag_208d-abs_mrd]) \n",
    "m243avg = np.mean([mag_243o-abs_mro,mag_243a-abs_mra,mag_243b-abs_mrb,mag_243c-abs_mrc,mag_243d-abs_mrd]) \n",
    "extinc_coeff_r, rb = np.polyfit(airmass_r,np.array([m87avg,m136avg,m208avg,m243avg]),deg=1)\n",
    "#extinc_coeff_r, rb = np.polyfit(airmass_r,pg_dr-abs_mrd,deg=1)\n",
    "plt.plot(airmass_r, extinc_coeff_r*airmass_r+rb,linestyle='dotted',color='k',label='best fit')\n",
    "plt.xlabel('Airmass')\n",
    "plt.ylabel('m-M')\n",
    "plt.title('Instrumental Magnitudes - Absolute Magnitudes in R filter versus Airmass')\n",
    "plt.legend()\n",
    "plt.show()\n",
    "print('extinction coefficient for R:', extinc_coeff_r)"
   ]
  },
  {
   "cell_type": "markdown",
   "metadata": {},
   "source": [
    "## 7: After extinction correcting your standard stars to zero airmasses (i.e., you’re correcting to the top of the atmosphere), make a plot of the difference between real magnitudes and instrumental magnitudes using your standard stars as a function of V-R color and B-V color. Fit a linear relation to this trend. The fit gives you your instrumental zero points and the first order color term which let you transform your instrumental photometry to the standard system. Tabulate the instrumental zero point and first order color terms for each band in a neat, digestible way."
   ]
  },
  {
   "cell_type": "code",
   "execution_count": 95,
   "metadata": {},
   "outputs": [],
   "source": [
    "# extinction correction for V and B filter:\n",
    "# V\n",
    "mc_ov_118 = mag_o - (extinc_coeff * 1.18)\n",
    "mc_av_118 = mag_a - (extinc_coeff * 1.18)\n",
    "mc_bv_118 = mag_b - (extinc_coeff * 1.18)\n",
    "mc_cv_118 = mag_c - (extinc_coeff * 1.18)\n",
    "mc_dv_118 = mag_d - (extinc_coeff * 1.18)\n",
    "\n",
    "mc_ov_124 = mag_134o - (extinc_coeff * 1.24)\n",
    "mc_av_124 = mag_134a - (extinc_coeff * 1.24)\n",
    "mc_bv_124 = mag_134b - (extinc_coeff * 1.24)\n",
    "mc_cv_124 = mag_134c - (extinc_coeff * 1.24)\n",
    "mc_dv_124 = mag_134d - (extinc_coeff * 1.24)\n",
    "\n",
    "mc_ov_152 = mag_206o - (extinc_coeff * 1.52)\n",
    "mc_av_152 = mag_206a - (extinc_coeff * 1.52)\n",
    "mc_bv_152 = mag_206b - (extinc_coeff * 1.52)\n",
    "mc_cv_152 = mag_206c - (extinc_coeff * 1.52)\n",
    "mc_dv_152 = mag_206d - (extinc_coeff * 1.52)\n",
    "\n",
    "mc_ov_221 = mag_241o - (extinc_coeff * 2.21)\n",
    "mc_av_221 = mag_241a - (extinc_coeff * 2.21)\n",
    "mc_bv_221 = mag_241b - (extinc_coeff * 2.21)\n",
    "mc_cv_221 = mag_241c - (extinc_coeff * 2.21)\n",
    "mc_dv_221 = mag_241d - (extinc_coeff * 2.21)\n",
    "\n",
    "# B\n",
    "mc_ob_118 = mag_83o - (extinc_coeff_b * 1.18)\n",
    "mc_ab_118 = mag_83a - (extinc_coeff_b * 1.18)\n",
    "mc_bb_118 = mag_83b - (extinc_coeff_b * 1.18)\n",
    "mc_cb_118 = mag_83c - (extinc_coeff_b * 1.18)\n",
    "mc_db_118 = mag_83d - (extinc_coeff_b * 1.18)\n",
    "\n",
    "mc_ob_124 = mag_132o - (extinc_coeff_b * 1.24)\n",
    "mc_ab_124 = mag_132a - (extinc_coeff_b * 1.24)\n",
    "mc_bb_124 = mag_132b - (extinc_coeff_b * 1.24)\n",
    "mc_cb_124 = mag_132c - (extinc_coeff_b * 1.24)\n",
    "mc_db_124 = mag_132d - (extinc_coeff_b * 1.24)\n",
    "\n",
    "mc_ob_151 = mag_204o - (extinc_coeff_b * 1.51)\n",
    "mc_ab_151 = mag_204a - (extinc_coeff_b * 1.51)\n",
    "mc_bb_151 = mag_204b - (extinc_coeff_b * 1.51)\n",
    "mc_cb_151 = mag_204c - (extinc_coeff_b * 1.51)\n",
    "mc_db_151 = mag_204d - (extinc_coeff_b * 1.51)\n",
    "\n",
    "mc_ob_221 = mag_239o - (extinc_coeff_b * 2.19)\n",
    "mc_ab_221 = mag_239a - (extinc_coeff_b * 2.19)\n",
    "mc_bb_221 = mag_239b - (extinc_coeff_b * 2.19)\n",
    "mc_cb_221 = mag_239c - (extinc_coeff_b * 2.19)\n",
    "mc_db_221 = mag_239d - (extinc_coeff_b * 2.19)"
   ]
  },
  {
   "cell_type": "code",
   "execution_count": 96,
   "metadata": {},
   "outputs": [],
   "source": [
    "# get v-r values\n",
    "v_r_true = np.array([-0.093,0.505,0.590,0.618,0.324])\n",
    "v118_mreal_minstr = np.array([abs_mvo-mc_ov_118,abs_mva-mc_av_118,abs_mvb-mc_bv_118,abs_mvc-mc_cv_118,abs_mvd-mc_dv_118])\n",
    "v124_mreal_minstr = np.array([abs_mvo-mc_ov_124,abs_mva-mc_av_124,abs_mvb-mc_bv_124,abs_mvc-mc_cv_124,abs_mvd-mc_dv_124])\n",
    "v151_mreal_minstr = np.array([abs_mvo-mc_ov_152,abs_mva-mc_av_152,abs_mvb-mc_bv_152,abs_mvc-mc_cv_152,abs_mvd-mc_dv_152])\n",
    "v221_mreal_minstr = np.array([abs_mvo-mc_ov_221,abs_mva-mc_av_221,abs_mvb-mc_bv_221,abs_mvc-mc_cv_221,abs_mvd-mc_dv_221])"
   ]
  },
  {
   "cell_type": "code",
   "execution_count": 97,
   "metadata": {},
   "outputs": [
    {
     "data": {
      "image/png": "[encoded data removed]",
      "text/plain": [
       "<Figure size 432x288 with 1 Axes>"
      ]
     },
     "metadata": {
      "needs_background": "light"
     },
     "output_type": "display_data"
    }
   ],
   "source": [
    "# plot m_standard - m_instrumental in V vs. V-R \n",
    "plt.scatter(v_r_true,v118_mreal_minstr,color='hotpink',label='X=1.18',marker='o')\n",
    "plt.scatter(v_r_true,v124_mreal_minstr,color='dodgerblue',label='X=1.24',marker='o')\n",
    "plt.scatter(v_r_true,v151_mreal_minstr,color='purple',label='X=1.52',marker='o')\n",
    "plt.scatter(v_r_true,v221_mreal_minstr,color='coral',label='X=2.21',marker='o')\n",
    "color_term_vr, instr_0_vr = np.polyfit(v_r_true,v124_mreal_minstr,deg=1)\n",
    "plt.plot(v_r_true,color_term_vr*v_r_true+instr_0_vr,linestyle='dotted',label='linear fit')\n",
    "plt.xlabel('V-R')\n",
    "plt.ylabel('m,standard - m,instrumental in V filter')\n",
    "plt.title('standard magnitude - instrumental magnitude in V vs V-R')\n",
    "plt.legend()\n",
    "plt.show()"
   ]
  },
  {
   "cell_type": "code",
   "execution_count": 98,
   "metadata": {},
   "outputs": [],
   "source": [
    "# get b-v values\n",
    "b_v_true = np.array([-0.192,0.873,1.081,1.134,0.535])\n",
    "b118_mreal_minstr = np.array([abs_mbo-mc_ob_118,abs_mba-mc_ab_118,abs_mbb-mc_bb_118,abs_mbc-mc_cb_118,abs_mbd-mc_db_118])\n",
    "b124_mreal_minstr = np.array([abs_mbo-mc_ob_124,abs_mba-mc_ab_124,abs_mbb-mc_bb_124,abs_mbc-mc_cb_124,abs_mbd-mc_db_124])\n",
    "b152_mreal_minstr = np.array([abs_mbo-mc_ob_151,abs_mba-mc_ab_151,abs_mbb-mc_bb_151,abs_mbc-mc_cb_151,abs_mbd-mc_db_151])\n",
    "b221_mreal_minstr = np.array([abs_mbo-mc_ob_221,abs_mba-mc_ab_221,abs_mbb-mc_bb_221,abs_mbc-mc_cb_221,abs_mbd-mc_db_221])"
   ]
  },
  {
   "cell_type": "code",
   "execution_count": 99,
   "metadata": {},
   "outputs": [
    {
     "data": {
      "image/png": "[encoded data removed]",
      "text/plain": [
       "<Figure size 432x288 with 1 Axes>"
      ]
     },
     "metadata": {
      "needs_background": "light"
     },
     "output_type": "display_data"
    }
   ],
   "source": [
    "# plot m_standard - m_instrumental in V vs. B-V \n",
    "plt.scatter(b_v_true,b118_mreal_minstr,color='hotpink',label='X=1.18',marker='o')\n",
    "plt.scatter(b_v_true,b124_mreal_minstr,color='dodgerblue',label='X=1.24',marker='o')\n",
    "plt.scatter(b_v_true,b152_mreal_minstr,color='purple',label='X=1.52',marker='o')\n",
    "plt.scatter(b_v_true,b221_mreal_minstr,color='coral',label='X=2.21',marker='o')\n",
    "color_term_bv, instr_0_bv = np.polyfit(b_v_true,v118_mreal_minstr,deg=1)\n",
    "plt.plot(b_v_true,color_term_bv*b_v_true+instr_0_bv,linestyle='dotted',label='linear fit')\n",
    "plt.xlabel('B-V')\n",
    "plt.ylabel('m,standard - m,instrumental in V filter')\n",
    "plt.title('standard magnitude - instrumental magnitude in V vs B-V')\n",
    "plt.legend()\n",
    "plt.show()"
   ]
  },
  {
   "cell_type": "code",
   "execution_count": 100,
   "metadata": {},
   "outputs": [
    {
     "name": "stdout",
     "output_type": "stream",
     "text": [
      "color term for V-R:  [-0.08372722] ; instrumental zero point:  [-3.19051302]\n",
      "color term for B-V:  [-0.04048492] ; instrumental zero point:  [-3.2066186]\n"
     ]
    }
   ],
   "source": [
    "print('color term for V-R: ', color_term_vr, '; instrumental zero point: ', instr_0_vr)\n",
    "print('color term for B-V: ', color_term_bv, '; instrumental zero point: ', instr_0_bv)"
   ]
  },
  {
   "cell_type": "markdown",
   "metadata": {},
   "source": [
    "## 8: Using the extinction terms and color terms derived for the imaging dataset previously, do photometry on the stars in NGC6823 and make a color magnitude diagram of this open cluster and compare it to a published one. Either V vs. B-V or R vs. R-I are the most common ones you might find, but there may be others. Assess in a paragraph semi-quantitatively how well does your data agree with published data? Note that your data may be affected by interstellar extinction, so you may need to deredden your data to better match the published CMD, if the published CMD has been corrected already. Use a paper such as Cardelli, Clayton, & Mathis (1989) to do the dereddening."
   ]
  },
  {
   "cell_type": "code",
   "execution_count": 101,
   "metadata": {},
   "outputs": [],
   "source": [
    "ngc_v = fits.open(reduced_dir+'a159otzb.fits')[0].data\n",
    "ngc_b = fits.open(reduced_dir+'a160otzb.fits')[0].data"
   ]
  },
  {
   "cell_type": "code",
   "execution_count": 102,
   "metadata": {},
   "outputs": [],
   "source": [
    "# calculate mean, median, and std\n",
    "mean_v, median_v, std_v = sigma_clipped_stats(ngc_v, sigma=3.0)  \n",
    "mean_b, median_b, std_b = sigma_clipped_stats(ngc_b, sigma=3.0) \n",
    "\n",
    "# find all the sources in the v and b image\n",
    "daofind_v = DAOStarFinder(fwhm=3.0, threshold=5.*std_v)  \n",
    "daofind_b = DAOStarFinder(fwhm=3.0, threshold=5.*std_b)\n",
    "v_sources = daofind_v(ngc_v - median_v) \n",
    "b_sources = daofind_b(ngc_b - median_b) "
   ]
  },
  {
   "cell_type": "code",
   "execution_count": 103,
   "metadata": {},
   "outputs": [],
   "source": [
    "for col in v_sources.colnames:  \n",
    "    v_sources[col].info.format = '%.8g'\n",
    "for col in b_sources.colnames:  \n",
    "    b_sources[col].info.format = '%.8g'"
   ]
  },
  {
   "cell_type": "code",
   "execution_count": 104,
   "metadata": {},
   "outputs": [
    {
     "name": "stderr",
     "output_type": "stream",
     "text": [
      "<ipython-input-104-10f78df1cb51>:37: RuntimeWarning: invalid value encountered in log10\n",
      "  v_ngc_mag = -2.5*np.log10(v_flux_jy/3640)\n",
      "<ipython-input-104-10f78df1cb51>:51: RuntimeWarning: invalid value encountered in log10\n",
      "  b_ngc_mag = -2.5*np.log10(b_flux_jy/3640)\n"
     ]
    }
   ],
   "source": [
    "# define star positions\n",
    "v_positions = np.transpose((v_sources['xcentroid'], v_sources['ycentroid']))\n",
    "b_positions = np.transpose((v_sources['xcentroid'], v_sources['ycentroid']))\n",
    "\n",
    "# define apertures and annulus\n",
    "v_apertures = CircularAperture(v_positions, r=8.)\n",
    "b_apertures = CircularAperture(b_positions, r=8.)\n",
    "v_annulus = CircularAnnulus(v_positions, r_in=8., r_out=10.)\n",
    "b_annulus = CircularAnnulus(b_positions, r_in=8., r_out=10.)\n",
    "\n",
    "# apply photometry\n",
    "v_aps = [v_apertures,v_annulus]\n",
    "b_aps = [b_apertures,b_annulus]\n",
    "\n",
    "# photometry table \n",
    "v_phot_table_ap = aperture_photometry(ngc_v, v_aps)\n",
    "b_phot_table_ap = aperture_photometry(ngc_b, b_aps)\n",
    "\n",
    "# calculate background counts\n",
    "v_bkg_mean = v_phot_table_ap['aperture_sum_1'] / v_annulus.area \n",
    "v_bkg_counts = v_bkg_mean * v_apertures.area\n",
    "b_bkg_mean = b_phot_table_ap['aperture_sum_1'] / b_annulus.area \n",
    "b_bkg_counts = b_bkg_mean * b_apertures.area\n",
    "\n",
    "# calculate magnitudes\n",
    "# V\n",
    "v_total_counts = v_phot_table_ap['aperture_sum_0']\n",
    "v_total_signal = v_total_counts - v_bkg_counts\n",
    "v_count_rate = v_total_signal / 12  # exp time = 12 sec\n",
    "v_photon_rate = v_count_rate * 2\n",
    "v_flux_ph_s = v_photon_rate / (1*980*np.pi*(115**2))\n",
    "v_e_ph = (6.624e-27 * 3e18) / 5380\n",
    "v_flux_erg_s_ang = v_flux_ph_s * v_e_ph\n",
    "v_hz_ang = 3e18 / (5380**2)\n",
    "v_flux_erg_s_hz = v_flux_erg_s_ang / v_hz_ang\n",
    "v_flux_jy = v_flux_erg_s_hz / 10e-23\n",
    "v_ngc_mag = -2.5*np.log10(v_flux_jy/3640)\n",
    "#print(v_ngc_mag)\n",
    "\n",
    "# B\n",
    "b_total_counts = b_phot_table_ap['aperture_sum_0']\n",
    "b_total_signal = b_total_counts - b_bkg_counts\n",
    "b_count_rate = b_total_signal / 12  # exp time = 12 sec\n",
    "b_photon_rate = b_count_rate * 2\n",
    "b_flux_ph_s = b_photon_rate / (1*980*np.pi*(115**2))\n",
    "b_e_ph = (6.624e-27 * 3e18) / 4350\n",
    "b_flux_erg_s_ang = b_flux_ph_s * b_e_ph\n",
    "b_hz_ang = 3e18 / (4350**2)\n",
    "b_flux_erg_s_hz = b_flux_erg_s_ang / b_hz_ang\n",
    "b_flux_jy = b_flux_erg_s_hz / 10e-23\n",
    "b_ngc_mag = -2.5*np.log10(b_flux_jy/3640)\n",
    "#print(b_ngc_mag)"
   ]
  },
  {
   "cell_type": "code",
   "execution_count": 105,
   "metadata": {},
   "outputs": [],
   "source": [
    "# correct for extinction using color term and instrumental zero point determined in #7. \n",
    "v_stand = v_ngc_mag + instr_0_bv + color_term_bv*(b_ngc_mag-v_ngc_mag) \n",
    "b_stand = b_ngc_mag + instr_0_bv + color_term_bv*(b_ngc_mag-v_ngc_mag) "
   ]
  },
  {
   "cell_type": "code",
   "execution_count": 106,
   "metadata": {},
   "outputs": [
    {
     "name": "stdout",
     "output_type": "stream",
     "text": [
      "Extinction for [B,V]:  [47.32513671 36.07268108]\n"
     ]
    }
   ],
   "source": [
    "# calculate the extinction from SDFmap\n",
    "ra, dec = \"19h43m09s\", \"+23d18m00s\"\n",
    "c = SkyCoord(ra,dec).galactic\n",
    "dustdir = '/Users/hannahdattilo/Desktop/old classes/ASTR8020/ASTR8020/dattilo/week4/sfddata'\n",
    "m = sfdmap.SFDMap(dustdir, scaling=1)\n",
    "ebv = m.ebv(c.l.value,c.b.value,frame='galactic')\n",
    "wave = np.array([4350., 5380.])\n",
    "A = extinction.fitzpatrick99(wave, 3.1*ebv)\n",
    "print('Extinction for [B,V]: ',A)"
   ]
  },
  {
   "cell_type": "code",
   "execution_count": 107,
   "metadata": {},
   "outputs": [],
   "source": [
    "# NOTE: these extinction values are ridiculous, I'm going to ignore them"
   ]
  },
  {
   "cell_type": "code",
   "execution_count": 108,
   "metadata": {},
   "outputs": [
    {
     "data": {
      "image/png": "[encoded data removed]",
      "text/plain": [
       "<Figure size 432x288 with 1 Axes>"
      ]
     },
     "metadata": {
      "needs_background": "light"
     },
     "output_type": "display_data"
    }
   ],
   "source": [
    "# color magnitude diagram \n",
    "ngc_b_v = np.array([b_stand-v_stand])\n",
    "plt.scatter(ngc_b_v,np.array([v_stand]))\n",
    "plt.ylim(max(v_stand)+1, min(v_stand)-1)\n",
    "plt.xlabel('B-V')\n",
    "plt.ylabel('V')\n",
    "plt.title('V vs B-V for NGC6823')\n",
    "plt.show()"
   ]
  },
  {
   "cell_type": "markdown",
   "metadata": {},
   "source": [
    "Clearly, something went wrong here. The plot above shows the NGC6823 object to be red but published papers show that NGC6823 is blue, specifically, -0.35 < B_V < -0.05. There are a lot of steps I could've done better here to get a more accurate response, these are listed below: \n",
    "1. I should've run some more tests to see which FWHM and threshold would've been best. \n",
    "2. I assumed the index values for the B and V magntitudes that came from DAOstarfinder were the same, which is not true. Next time, I need to search for nearby objects based on the positions from one image and match them to positions in another image. \n",
    "3. The extinction value from the SDFmap returned something ridiculous, so I ignored it. I need to go back anf fix that so I can properly deredden the object. "
   ]
  },
  {
   "cell_type": "code",
   "execution_count": null,
   "metadata": {},
   "outputs": [],
   "source": []
  },
  {
   "cell_type": "code",
   "execution_count": null,
   "metadata": {},
   "outputs": [],
   "source": []
  }
 ],
 "metadata": {
  "kernelspec": {
   "display_name": "Python 3",
   "language": "python",
   "name": "python3"
  },
  "language_info": {
   "codemirror_mode": {
    "name": "ipython",
    "version": 3
   },
   "file_extension": ".py",
   "mimetype": "text/x-python",
   "name": "python",
   "nbconvert_exporter": "python",
   "pygments_lexer": "ipython3",
   "version": "3.8.3"
  }
 },
 "nbformat": 4,
 "nbformat_minor": 4
}
